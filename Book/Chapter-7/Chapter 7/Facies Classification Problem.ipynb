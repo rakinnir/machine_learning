{
 "cells": [
  {
   "cell_type": "code",
   "execution_count": 1,
   "metadata": {},
   "outputs": [
    {
     "name": "stdout",
     "output_type": "stream",
     "text": [
      "            Facies        Depth           GR    ILD_log10     DeltaPHI  \\\n",
      "count  3232.000000  3232.000000  3232.000000  3232.000000  3232.000000   \n",
      "mean      4.422030  2875.824567    66.135769     0.642719     3.559642   \n",
      "std       2.504243   131.006274    30.854826     0.241845     5.228948   \n",
      "min       1.000000  2573.500000    13.250000    -0.025949   -21.832000   \n",
      "25%       2.000000  2791.000000    46.918750     0.492750     1.163750   \n",
      "50%       4.000000  2893.500000    65.721500     0.624437     3.500000   \n",
      "75%       6.000000  2980.000000    79.626250     0.812735     6.432500   \n",
      "max       9.000000  3122.500000   361.150000     1.480000    18.600000   \n",
      "\n",
      "             PHIND           PE         NM_M       RELPOS  \n",
      "count  3232.000000  3232.000000  3232.000000  3232.000000  \n",
      "mean     13.483213     3.725014     1.498453     0.520287  \n",
      "std       7.698980     0.896152     0.500075     0.286792  \n",
      "min       0.550000     0.200000     1.000000     0.010000  \n",
      "25%       8.346750     3.100000     1.000000     0.273000  \n",
      "50%      12.150000     3.551500     1.000000     0.526000  \n",
      "75%      16.453750     4.300000     2.000000     0.767250  \n",
      "max      84.400000     8.094000     2.000000     1.000000  \n"
     ]
    }
   ],
   "source": [
    "#Import the data and print descriptive statistics\n",
    "import pandas as pd\n",
    "import seaborn as sns\n",
    "dataset=pd.read_csv('Chapter7_Facies Data.CSV')\n",
    "print(dataset.describe())\n",
    "x=dataset.iloc[:,4:11]\n",
    "y=dataset.iloc[:,0].values\n",
    "#Scale the input data from 0 to 1\n",
    "from sklearn.preprocessing import MinMaxScaler\n",
    "sc=MinMaxScaler()\n",
    "xnorm=pd.DataFrame(data=sc.fit_transform(x))\n",
    "#Partition the data into train and test\n",
    "from sklearn.model_selection import train_test_split\n",
    "seed=50\n",
    "x_train, x_test, y_train, y_test=train_test_split(xnorm, y, \n",
    "random_state=1)\n",
    "\n",
    "  \n",
    "#Import logistic regression and train the model\n",
    "from sklearn.linear_model import LogisticRegression\n",
    "LG=LogisticRegression(max_iter=200).fit(x_train,y_train)\n",
    "y_predict=LG.predict(x_test)"
   ]
  },
  {
   "cell_type": "code",
   "execution_count": 2,
   "metadata": {},
   "outputs": [
    {
     "data": {
      "image/png": "[encoded data removed]",
      "text/plain": [
       "<Figure size 432x288 with 1 Axes>"
      ]
     },
     "metadata": {
      "needs_background": "light"
     },
     "output_type": "display_data"
    }
   ],
   "source": [
    "import matplotlib.pyplot as plt\n",
    "import numpy as np\n",
    "from sklearn.metrics import confusion_matrix\n",
    "matrix=confusion_matrix(y_test, y_predict)\n",
    "cv=np.arange(1,10)\n",
    "dataframe=pd.DataFrame(matrix,index=cv,columns=cv)\n",
    "# Create heatmap\n",
    "sns.heatmap(dataframe, annot=True, cbar=None, cmap=\"Blues\")\n",
    "plt.title(\"Confusion Matrix\"), plt.tight_layout()\n",
    "plt.ylabel(\"True Class\"), plt.xlabel(\"Predicted Class\")\n",
    "plt.show()"
   ]
  },
  {
   "cell_type": "code",
   "execution_count": 3,
   "metadata": {},
   "outputs": [
    {
     "name": "stdout",
     "output_type": "stream",
     "text": [
      "              precision    recall  f1-score   support\n",
      "\n",
      "           1       0.71      0.44      0.54        62\n",
      "           2       0.56      0.81      0.66       185\n",
      "           3       0.70      0.46      0.55       156\n",
      "           4       0.47      0.33      0.38        46\n",
      "           5       0.29      0.04      0.07        50\n",
      "           6       0.50      0.67      0.57       113\n",
      "           7       0.62      0.45      0.53        22\n",
      "           8       0.52      0.71      0.60       131\n",
      "           9       0.71      0.28      0.40        43\n",
      "\n",
      "    accuracy                           0.56       808\n",
      "   macro avg       0.56      0.46      0.48       808\n",
      "weighted avg       0.57      0.56      0.54       808\n",
      "\n"
     ]
    }
   ],
   "source": [
    "from sklearn.metrics import classification_report\n",
    "print(classification_report( y_test,y_predict))"
   ]
  },
  {
   "cell_type": "code",
   "execution_count": 4,
   "metadata": {},
   "outputs": [
    {
     "name": "stdout",
     "output_type": "stream",
     "text": [
      "Kfold Cross-validation scores: [0.52704791 0.53323029 0.48916409 0.48297214 0.57120743]\n",
      "Average Kfold cross-validation score: 0.5207243720721022\n"
     ]
    }
   ],
   "source": [
    "from sklearn.model_selection import cross_val_score\n",
    "scores_kfold=cross_val_score(LG, xnorm, y,cv=5)\n",
    "print(\"Kfold Cross-validation scores: {}\". format(scores_kfold))\n",
    "print(\"Average Kfold cross-validation score: {}\". format(\n",
    "scores_kfold.mean()))"
   ]
  },
  {
   "cell_type": "code",
   "execution_count": 5,
   "metadata": {},
   "outputs": [
    {
     "name": "stdout",
     "output_type": "stream",
     "text": [
      " Number of cv iterations-Leave one Out:  3232\n",
      " Mean accuracy Leave one Out: 0.5590965346534653\n"
     ]
    }
   ],
   "source": [
    "from sklearn.model_selection import LeaveOneOut\n",
    "loo=LeaveOneOut()\n",
    "scores_loo=cross_val_score(LG, xnorm, y, cv=loo)\n",
    "print(\" Number of cv iterations-Leave one Out: \", len(scores_loo))\n",
    "print(\" Mean accuracy Leave one Out: {}\". format(scores_loo.mean()))"
   ]
  },
  {
   "cell_type": "code",
   "execution_count": 6,
   "metadata": {},
   "outputs": [
    {
     "name": "stdout",
     "output_type": "stream",
     "text": [
      " Cross-validation scores:[0.54455446 0.56064356 0.5779703  0.54455446 0.55321782 0.57549505]\n",
      " Mean accuracy: 0.5594059405940595\n"
     ]
    }
   ],
   "source": [
    "from sklearn.model_selection import ShuffleSplit\n",
    "sh_sp=ShuffleSplit(test_size =.25, train_size =.75, n_splits = 6,random_state=50)\n",
    "scores_SP=cross_val_score(LG, xnorm, y, cv=sh_sp)\n",
    "print(\" Cross-validation scores:{}\". format(scores_SP))\n",
    "print(\" Mean accuracy: {}\". format(scores_SP.mean()))"
   ]
  },
  {
   "cell_type": "code",
   "execution_count": 7,
   "metadata": {},
   "outputs": [
    {
     "name": "stdout",
     "output_type": "stream",
     "text": [
      "Best penalty: l2\n",
      "Best C: 48.32930238571752\n",
      "              precision    recall  f1-score   support\n",
      "\n",
      "           1       0.60      0.58      0.59        62\n",
      "           2       0.59      0.68      0.63       185\n",
      "           3       0.66      0.56      0.60       156\n",
      "           4       0.56      0.48      0.52        46\n",
      "           5       0.33      0.08      0.13        50\n",
      "           6       0.53      0.67      0.59       113\n",
      "           7       0.44      0.50      0.47        22\n",
      "           8       0.58      0.66      0.62       131\n",
      "           9       0.79      0.63      0.70        43\n",
      "\n",
      "    accuracy                           0.59       808\n",
      "   macro avg       0.57      0.54      0.54       808\n",
      "weighted avg       0.58      0.59      0.58       808\n",
      "\n"
     ]
    }
   ],
   "source": [
    "from sklearn.model_selection import GridSearchCV\n",
    "penalty=['l1','l2']\n",
    "C=np.logspace(0,4,20)\n",
    "LRG=LogisticRegression(multi_class='auto',solver='liblinear',max_iter=200)\n",
    "hyperparameters=dict(C=C,penalty=penalty)\n",
    "gridsearch=GridSearchCV(LRG,hyperparameters, cv=5, verbose=0)\n",
    "Best_Model=gridsearch.fit(xnorm, y)\n",
    "print('Best penalty:', Best_Model.best_estimator_.get_params()\n",
    "['penalty'])\n",
    "print('Best C:', Best_Model.best_estimator_.get_params()['C'])\n",
    "B=Best_Model.predict(x_test) \n",
    "from sklearn.metrics import classification_report\n",
    "\n",
    "print(classification_report(y_test, B))"
   ]
  },
  {
   "cell_type": "code",
   "execution_count": 8,
   "metadata": {},
   "outputs": [
    {
     "name": "stdout",
     "output_type": "stream",
     "text": [
      "RandomForestClassifier(bootstrap=True, ccp_alpha=0.0, class_weight=None,\n",
      "                       criterion='gini', max_depth=None, max_features=2,\n",
      "                       max_leaf_nodes=None, max_samples=None,\n",
      "                       min_impurity_decrease=0.0, min_impurity_split=None,\n",
      "                       min_samples_leaf=1, min_samples_split=2,\n",
      "                       min_weight_fraction_leaf=0.0, n_estimators=80,\n",
      "                       n_jobs=None, oob_score=False, random_state=0, verbose=0,\n",
      "                       warm_start=False)\n",
      "              precision    recall  f1-score   support\n",
      "\n",
      "           1       0.81      0.71      0.76        62\n",
      "           2       0.71      0.78      0.74       185\n",
      "           3       0.75      0.73      0.74       156\n",
      "           4       0.79      0.72      0.75        46\n",
      "           5       0.64      0.42      0.51        50\n",
      "           6       0.70      0.77      0.73       113\n",
      "           7       0.68      0.77      0.72        22\n",
      "           8       0.75      0.76      0.76       131\n",
      "           9       0.95      0.91      0.93        43\n",
      "\n",
      "    accuracy                           0.74       808\n",
      "   macro avg       0.75      0.73      0.74       808\n",
      "weighted avg       0.74      0.74      0.74       808\n",
      "\n"
     ]
    }
   ],
   "source": [
    "import numpy as np\n",
    "from sklearn.linear_model import LogisticRegression\n",
    "from sklearn.ensemble import RandomForestClassifier\n",
    "from sklearn.model_selection import GridSearchCV\n",
    "from sklearn.pipeline import Pipeline\n",
    "np.random.seed(50)\n",
    "pipe = Pipeline([(\"clf\", LogisticRegression(solver='liblinear',max_iter=200))])\n",
    "\n",
    "log_classifier = {\"clf\": [LogisticRegression(solver='liblinear',max_iter=200)],\n",
    "                 \"clf__penalty\": ['l1', 'l2'],\n",
    "                 \"clf__C\": np.arange(0.1, 100, 20)}\n",
    "\n",
    "ranforest_classifier = {\"clf\": [RandomForestClassifier(random_state=0)],\n",
    "                        \"clf__n_estimators\": np.arange(10, 300, 10),\n",
    "                        \"clf__max_features\": [1, 2, 3]}\n",
    "\n",
    "grid = [ranforest_classifier,log_classifier]\n",
    "\n",
    "gridsearch_models = GridSearchCV(pipe, grid, cv=5, verbose=0,n_jobs=-1)\n",
    "Best_modelM = gridsearch_models.fit(x_train, y_train)\n",
    "\n",
    "print(Best_modelM.best_estimator_.get_params()[\"clf\"])\n",
    "y_BM=Best_modelM.predict(x_test)\n",
    "from sklearn.metrics import classification_report\n",
    "print(classification_report(y_test, y_BM))"
   ]
  },
  {
   "cell_type": "code",
   "execution_count": null,
   "metadata": {},
   "outputs": [],
   "source": []
  }
 ],
 "metadata": {
  "kernelspec": {
   "display_name": "Python 3",
   "language": "python",
   "name": "python3"
  },
  "language_info": {
   "codemirror_mode": {
    "name": "ipython",
    "version": 3
   },
   "file_extension": ".py",
   "mimetype": "text/x-python",
   "name": "python",
   "nbconvert_exporter": "python",
   "pygments_lexer": "ipython3",
   "version": "3.7.6"
  }
 },
 "nbformat": 4,
 "nbformat_minor": 2
}
