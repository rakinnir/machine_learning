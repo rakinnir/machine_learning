{
 "cells": [
  {
   "cell_type": "code",
   "execution_count": 1,
   "metadata": {},
   "outputs": [
    {
     "name": "stdout",
     "output_type": "stream",
     "text": [
      "              No          TVD          TT        COH          Qg           Qw  \\\n",
      "count  29.000000    29.000000   29.000000  29.000000   29.000000    29.000000   \n",
      "mean   15.000000  2664.172414  109.931034  19.293103   70.751724   542.230966   \n",
      "std     8.514693  1027.947680   20.476347  11.056444   31.720460  1171.726103   \n",
      "min     1.000000   319.000000   85.000000   5.500000   23.000000     0.000000   \n",
      "25%     8.000000  1930.000000   98.000000  10.800000   48.000000    52.000000   \n",
      "50%    15.000000  2983.000000  100.000000  19.500000   69.800000    85.000000   \n",
      "75%    22.000000  3366.000000  120.000000  22.600000   93.400000   280.000000   \n",
      "max    29.000000  4548.000000  170.000000  53.200000  139.500000  5672.000000   \n",
      "\n",
      "             BHFP          DD        EOVS        SPF      Hperf  \\\n",
      "count   29.000000   29.000000   29.000000  29.000000  29.000000   \n",
      "mean   185.113793   30.200000  435.586207   7.724138  10.965517   \n",
      "std     62.763364   31.623466  217.682849   7.457722   5.499888   \n",
      "min     67.000000    0.700000  111.000000   1.000000   3.500000   \n",
      "25%    140.400000    8.000000  242.000000   4.000000   6.000000   \n",
      "50%    184.600000   16.600000  492.000000   4.000000  11.000000   \n",
      "75%    222.100000   47.400000  601.000000   8.500000  15.500000   \n",
      "max    302.200000  124.400000  823.000000  33.000000  21.000000   \n",
      "\n",
      "       Sand Production Observed  \n",
      "count                 29.000000  \n",
      "mean                   0.724138  \n",
      "std                    0.454859  \n",
      "min                    0.000000  \n",
      "25%                    0.000000  \n",
      "50%                    1.000000  \n",
      "75%                    1.000000  \n",
      "max                    1.000000  \n"
     ]
    }
   ],
   "source": [
    "#data loading and descriptive statistics\n",
    "import pandas as pd\n",
    "dataset=pd.read_csv('Chapter7_Sand Production.CSV')\n",
    "print(dataset.describe())"
   ]
  },
  {
   "cell_type": "code",
   "execution_count": 2,
   "metadata": {},
   "outputs": [],
   "source": [
    "# Define input(x) and target(y)\n",
    "x=dataset.iloc[:,1:11]\n",
    "y=dataset.iloc[:,11].values\n",
    "# Scale input data between 0 and 1\n",
    "from sklearn.preprocessing import MinMaxScaler\n",
    "sc=MinMaxScaler()\n",
    "xnorm=pd.DataFrame(data=sc.fit_transform(x))\n",
    "# Partition data into test and train\n",
    "import numpy as np\n",
    "seed=50 \n",
    "np.random.seed(seed) \n",
    "from sklearn.model_selection import train_test_split\n",
    "x_train, x_test, y_train, y_test=train_test_split(xnorm,\n",
    "y, test_size=0.3)\n",
    "# Train binary classifier (k-neighbor) and predict on train and test data\n",
    "set\n",
    "from sklearn.neighbors import KNeighborsClassifier\n",
    "KNC=KNeighborsClassifier(n_neighbors=3,leaf_size=3)\n",
    "KNC.fit(x_train,y_train)\n",
    "y_train_predict=KNC.predict(x_train)\n",
    "y_test_predict=KNC.predict(x_test)"
   ]
  },
  {
   "cell_type": "code",
   "execution_count": 3,
   "metadata": {},
   "outputs": [
    {
     "name": "stdout",
     "output_type": "stream",
     "text": [
      "Accuracy_test: 0.777778\n"
     ]
    }
   ],
   "source": [
    "from sklearn.metrics import accuracy_score\n",
    "accuracy_test=accuracy_score(y_test, y_test_predict)\n",
    "print('Accuracy_test: %f' % accuracy_test)"
   ]
  },
  {
   "cell_type": "code",
   "execution_count": 4,
   "metadata": {},
   "outputs": [
    {
     "name": "stdout",
     "output_type": "stream",
     "text": [
      "Precision_test: 0.750000\n"
     ]
    }
   ],
   "source": [
    "from sklearn.metrics import precision_score\n",
    "precision_test=precision_score(y_test, y_test_predict)\n",
    "print('Precision_test: %f' % precision_test)"
   ]
  },
  {
   "cell_type": "code",
   "execution_count": 5,
   "metadata": {},
   "outputs": [
    {
     "name": "stdout",
     "output_type": "stream",
     "text": [
      "Recall_test: 1.000000\n"
     ]
    }
   ],
   "source": [
    "from sklearn.metrics import recall_score\n",
    "recall_test=recall_score(y_test, y_test_predict)\n",
    "print('Recall_test: %f' % recall_test)"
   ]
  },
  {
   "cell_type": "code",
   "execution_count": 6,
   "metadata": {},
   "outputs": [
    {
     "name": "stdout",
     "output_type": "stream",
     "text": [
      "F1 score_train: 0.857143\n"
     ]
    }
   ],
   "source": [
    "from sklearn.metrics import f1_score\n",
    "f1_test=f1_score(y_test, y_test_predict)\n",
    "print('F1 score_train: %f' % f1_test)"
   ]
  },
  {
   "cell_type": "code",
   "execution_count": 7,
   "metadata": {},
   "outputs": [
    {
     "name": "stdout",
     "output_type": "stream",
     "text": [
      "              precision    recall  f1-score   support\n",
      "\n",
      "           0       1.00      0.33      0.50         3\n",
      "           1       0.75      1.00      0.86         6\n",
      "\n",
      "    accuracy                           0.78         9\n",
      "   macro avg       0.88      0.67      0.68         9\n",
      "weighted avg       0.83      0.78      0.74         9\n",
      "\n"
     ]
    }
   ],
   "source": [
    "from sklearn.metrics import classification_report\n",
    "print(classification_report(y_test, y_test_predict))"
   ]
  },
  {
   "cell_type": "code",
   "execution_count": 8,
   "metadata": {},
   "outputs": [
    {
     "name": "stdout",
     "output_type": "stream",
     "text": [
      "Cross-validation scores: [0.66666667 1.         1.         0.66666667 1.        ]\n",
      "Average cross-validation score: 0.8666666666666666\n"
     ]
    }
   ],
   "source": [
    "from sklearn.model_selection import cross_val_score\n",
    "scores=cross_val_score(KNC, xnorm, y,cv=5,scoring='accuracy')\n",
    "print(\"Cross-validation scores: {}\". format(scores))\n",
    "print(\"Average cross-validation score: {}\". format(scores.mean()))"
   ]
  },
  {
   "cell_type": "code",
   "execution_count": 9,
   "metadata": {},
   "outputs": [
    {
     "name": "stdout",
     "output_type": "stream",
     "text": [
      " StratifiedKFold Cross-validation scores: [1.         0.83333333 0.83333333 0.83333333 1.        ]\n",
      " Average StratifiedKFold cross-validation score: 0.9\n"
     ]
    }
   ],
   "source": [
    "from sklearn.model_selection import StratifiedKFold\n",
    "skfold=StratifiedKFold(n_splits=5,shuffle=True, random_state=100)\n",
    "scoresSK=cross_val_score(KNC, xnorm, y,cv=skfold,scoring=\n",
    "'accuracy')\n",
    "print(\" StratifiedKFold Cross-validation scores: {}\". format(\n",
    "scoresSK))\n",
    "print(\" Average StratifiedKFold cross-validation score: {}\". format\n",
    "(scoresSK.mean()))"
   ]
  },
  {
   "cell_type": "code",
   "execution_count": 10,
   "metadata": {},
   "outputs": [
    {
     "name": "stdout",
     "output_type": "stream",
     "text": [
      " Cross-validation scores:[0.75 1.   0.75 0.75 0.75]\n",
      " Mean accuracy: 0.8\n"
     ]
    }
   ],
   "source": [
    "from sklearn.model_selection import ShuffleSplit\n",
    "sh_sp=ShuffleSplit(test_size =.25, train_size =.75, n_splits = 5, random_state=50)\n",
    "scoresSP=cross_val_score(KNC, xnorm, y, cv=sh_sp)\n",
    "print(\" Cross-validation scores:{}\". format(scoresSP))\n",
    "print(\" Mean accuracy: {}\". format(scoresSP.mean()))"
   ]
  },
  {
   "cell_type": "code",
   "execution_count": 11,
   "metadata": {},
   "outputs": [
    {
     "name": "stdout",
     "output_type": "stream",
     "text": [
      "iteration: 0  score: 0.8933333333333333  NN: 2  weight: uniform  leaf size: 2\n",
      "iteration: 1  score: 0.8933333333333333  NN: 2  weight: uniform  leaf size: 3\n",
      "iteration: 2  score: 0.8933333333333333  NN: 2  weight: uniform  leaf size: 4\n",
      "iteration: 3  score: 0.9  NN: 2  weight: distance  leaf size: 2\n",
      "iteration: 4  score: 0.9  NN: 2  weight: distance  leaf size: 3\n",
      "iteration: 5  score: 0.9  NN: 2  weight: distance  leaf size: 4\n",
      "iteration: 6  score: 0.8666666666666666  NN: 3  weight: uniform  leaf size: 2\n",
      "iteration: 7  score: 0.8666666666666666  NN: 3  weight: uniform  leaf size: 3\n",
      "iteration: 8  score: 0.8666666666666666  NN: 3  weight: uniform  leaf size: 4\n",
      "iteration: 9  score: 0.8666666666666666  NN: 3  weight: distance  leaf size: 2\n",
      "iteration: 10  score: 0.8666666666666666  NN: 3  weight: distance  leaf size: 3\n",
      "iteration: 11  score: 0.8666666666666666  NN: 3  weight: distance  leaf size: 4\n",
      "iteration: 12  score: 0.7533333333333333  NN: 4  weight: uniform  leaf size: 2\n",
      "iteration: 13  score: 0.7533333333333333  NN: 4  weight: uniform  leaf size: 3\n",
      "iteration: 14  score: 0.7533333333333333  NN: 4  weight: uniform  leaf size: 4\n",
      "iteration: 15  score: 0.8666666666666666  NN: 4  weight: distance  leaf size: 2\n",
      "iteration: 16  score: 0.8666666666666666  NN: 4  weight: distance  leaf size: 3\n",
      "iteration: 17  score: 0.8666666666666666  NN: 4  weight: distance  leaf size: 4\n",
      "iteration: 18  score: 0.8  NN: 5  weight: uniform  leaf size: 2\n",
      "iteration: 19  score: 0.8  NN: 5  weight: uniform  leaf size: 3\n",
      "iteration: 20  score: 0.8  NN: 5  weight: uniform  leaf size: 4\n",
      "iteration: 21  score: 0.8  NN: 5  weight: distance  leaf size: 2\n",
      "iteration: 22  score: 0.8  NN: 5  weight: distance  leaf size: 3\n",
      "iteration: 23  score: 0.8  NN: 5  weight: distance  leaf size: 4\n",
      " Highest score:  0.9\n",
      " Best parameters:  {' n_neighbors': 2, 'weights': 'distance', 'leaf_size': 4}\n"
     ]
    }
   ],
   "source": [
    "from sklearn.neighbors import KNeighborsClassifier\n",
    "#Define k-nearest neighbor's combination of hyper-parameters\n",
    "highest_score=0\n",
    "i=0\n",
    "for n in [2,3,4,5]:\n",
    "    for w in['uniform','distance']:\n",
    "        for l in[2,3,4]:\n",
    "#Train a model with each combination of hyper-parameters and\n",
    "#calculate the accuracy\n",
    "            KNCG=KNeighborsClassifier(n_neighbors=n,\n",
    "            weights=w, leaf_size=l)\n",
    "            scores=cross_val_score(KNCG, xnorm, y,\n",
    "            cv=5,scoring='accuracy')\n",
    "            scoreg=scores.mean()\n",
    "            print(\"iteration:\",i,\" score:\",scoreg,\n",
    "            \" NN:\",n, \" weight:\",w,\" leaf size:\",l)\n",
    "            i+=1\n",
    "#Find the hyper-parameters that returns a model with the highest\n",
    "#accuracy score\n",
    "            if scoreg >= highest_score:\n",
    "                highest_score=scoreg\n",
    "                best_parameters={' n_neighbors':\n",
    "                n, 'weights': w,'leaf_size':l}\n",
    "print(\" Highest score: \", (highest_score))\n",
    "print(\" Best parameters: \", format(best_parameters))"
   ]
  },
  {
   "cell_type": "code",
   "execution_count": 12,
   "metadata": {},
   "outputs": [
    {
     "name": "stdout",
     "output_type": "stream",
     "text": [
      "Best n_neighbors: 2\n",
      "Best weights: distance\n",
      "Best leaf_size: 2\n",
      "              precision    recall  f1-score   support\n",
      "\n",
      "           0       1.00      1.00      1.00         8\n",
      "           1       1.00      1.00      1.00        21\n",
      "\n",
      "    accuracy                           1.00        29\n",
      "   macro avg       1.00      1.00      1.00        29\n",
      "weighted avg       1.00      1.00      1.00        29\n",
      "\n"
     ]
    }
   ],
   "source": [
    "#Grid Search with Cross-validation\n",
    "from sklearn.model_selection import GridSearchCV\n",
    "Neighbor=[2,3,4,5]\n",
    "Weight=['uniform','distance']\n",
    "Leaf=[2,3,4]\n",
    "hyperparameters=dict(n_neighbors=Neighbor,\n",
    "weights=Weight,leaf_size=Leaf)\n",
    "KNN=KNeighborsClassifier()\n",
    "gridsearch=GridSearchCV(KNN, hyperparameters, cv=5)\n",
    "Best_Model=gridsearch.fit(xnorm, y)\n",
    "print('Best n_neighbors:', Best_Model.best_estimator_.get_params\n",
    "()['n_neighbors'])\n",
    "print('Best weights:', Best_Model.best_estimator_.get_params()\n",
    "['weights'])\n",
    "print('Best leaf_size:', Best_Model.best_estimator_.get_params()\n",
    "['leaf_size'])\n",
    "B=Best_Model.predict(xnorm)\n",
    "from sklearn.metrics import classification_report \n",
    "print(classification_report(y, B))"
   ]
  },
  {
   "cell_type": "code",
   "execution_count": 13,
   "metadata": {},
   "outputs": [
    {
     "name": "stdout",
     "output_type": "stream",
     "text": [
      "Best n_neighbors: 2\n",
      "Best weights: distance\n",
      "Best leaf_size: 4\n",
      "              precision    recall  f1-score   support\n",
      "\n",
      "           0       1.00      1.00      1.00         8\n",
      "           1       1.00      1.00      1.00        21\n",
      "\n",
      "    accuracy                           1.00        29\n",
      "   macro avg       1.00      1.00      1.00        29\n",
      "weighted avg       1.00      1.00      1.00        29\n",
      "\n"
     ]
    }
   ],
   "source": [
    "from sklearn.model_selection import RandomizedSearchCV\n",
    "Neighbor=[2,3,4,5]\n",
    "Weight=['uniform','distance']\n",
    "Leaf=[2,3,4]\n",
    "hyperparameters=dict(n_neighbors=Neighbor,\n",
    "weights=Weight,leaf_size=Leaf)\n",
    "KNN=KNeighborsClassifier()\n",
    "gridsearch_randomized=RandomizedSearchCV(KNN,\n",
    "hyperparameters,n_iter=12,random_state=1, cv=5)\n",
    "Best_Model=gridsearch_randomized.fit(xnorm, y)\n",
    "print('Best n_neighbors:', Best_Model.best_estimator_.get_params\n",
    "()['n_neighbors'])\n",
    "print('Best weights:', Best_Model.best_estimator_.get_params()\n",
    "['weights'])\n",
    "print('Best leaf_size:', Best_Model.best_estimator_.get_params()\n",
    "['leaf_size'])\n",
    "BRG=Best_Model.predict(xnorm)\n",
    "from sklearn.metrics import classification_report\n",
    "print(classification_report(y, BRG))"
   ]
  }
 ],
 "metadata": {
  "kernelspec": {
   "display_name": "Python 3",
   "language": "python",
   "name": "python3"
  },
  "language_info": {
   "codemirror_mode": {
    "name": "ipython",
    "version": 3
   },
   "file_extension": ".py",
   "mimetype": "text/x-python",
   "name": "python",
   "nbconvert_exporter": "python",
   "pygments_lexer": "ipython3",
   "version": "3.7.6"
  }
 },
 "nbformat": 4,
 "nbformat_minor": 2
}
