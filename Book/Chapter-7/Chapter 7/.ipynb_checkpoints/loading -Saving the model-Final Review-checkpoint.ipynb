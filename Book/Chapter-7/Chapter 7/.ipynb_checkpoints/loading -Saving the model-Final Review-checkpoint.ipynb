{
 "cells": [
  {
   "cell_type": "code",
   "execution_count": 1,
   "metadata": {},
   "outputs": [
    {
     "data": {
      "text/plain": [
       "['rfmodel1.joblib']"
      ]
     },
     "execution_count": 1,
     "metadata": {},
     "output_type": "execute_result"
    }
   ],
   "source": [
    " import pandas as pd\n",
    "from sklearn.pipeline import make_pipeline\n",
    "from sklearn.preprocessing import MinMaxScaler\n",
    "from sklearn.ensemble import RandomForestClassifier\n",
    "dataset=pd.read_csv('Chapter7_Facies Data.CSV')\n",
    "x=dataset.iloc[:,4:11] \n",
    "y=dataset.iloc[:,0].values\n",
    "import numpy as np\n",
    "seed=50 \n",
    "np.random.seed(seed)\n",
    "from sklearn.model_selection import train_test_split\n",
    "x_train, x_test, y_train, y_test=train_test_split(x, y,\n",
    " test_size=0.3)\n",
    "model = make_pipeline(MinMaxScaler(),RandomForestClassifier(max_features=2,\n",
    "                                                         n_estimators=80,\n",
    "                                                         random_state=0),)\n",
    "rfmodel1=model.fit(x_train,y_train)\n",
    "from joblib import dump\n",
    "dump(rfmodel1,\"rfmodel1.joblib\")"
   ]
  },
  {
   "cell_type": "code",
   "execution_count": 2,
   "metadata": {},
   "outputs": [
    {
     "name": "stdout",
     "output_type": "stream",
     "text": [
      "              precision    recall  f1-score   support\n",
      "\n",
      "           1       0.92      0.73      0.82        82\n",
      "           2       0.73      0.86      0.79       215\n",
      "           3       0.78      0.71      0.74       181\n",
      "           4       0.61      0.61      0.61        51\n",
      "           5       0.60      0.38      0.47        68\n",
      "           6       0.60      0.60      0.60       142\n",
      "           7       0.81      0.64      0.71        33\n",
      "           8       0.60      0.76      0.67       139\n",
      "           9       0.98      0.75      0.85        59\n",
      "\n",
      "    accuracy                           0.71       970\n",
      "   macro avg       0.74      0.67      0.69       970\n",
      "weighted avg       0.72      0.71      0.71       970\n",
      "\n"
     ]
    }
   ],
   "source": [
    "import pandas as pd\n",
    "from joblib import load\n",
    "dataset=pd.read_csv('Chapter7_Facies Data.CSV')\n",
    "x=dataset.iloc[:,4:11]\n",
    "y=dataset.iloc[:,0].values\n",
    "import numpy as np \n",
    "seed=50\n",
    "np.random.seed(seed)\n",
    "from sklearn.model_selection import train_test_split\n",
    "x_train, x_test, y_train, y_test=train_test_split(x, y,\n",
    "test_size=0.3)\n",
    "Model=load('rfmodel1.joblib')\n",
    "yModel=Model.predict(x_test)\n",
    "from sklearn.metrics import classification_report\n",
    "print(classification_report(y_test, yModel))"
   ]
  },
  {
   "cell_type": "code",
   "execution_count": null,
   "metadata": {},
   "outputs": [],
   "source": []
  }
 ],
 "metadata": {
  "kernelspec": {
   "display_name": "Python 3",
   "language": "python",
   "name": "python3"
  },
  "language_info": {
   "codemirror_mode": {
    "name": "ipython",
    "version": 3
   },
   "file_extension": ".py",
   "mimetype": "text/x-python",
   "name": "python",
   "nbconvert_exporter": "python",
   "pygments_lexer": "ipython3",
   "version": "3.7.6"
  }
 },
 "nbformat": 4,
 "nbformat_minor": 2
}
