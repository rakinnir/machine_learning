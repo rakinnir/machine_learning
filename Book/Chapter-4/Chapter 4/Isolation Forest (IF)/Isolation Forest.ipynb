{
 "cells": [
  {
   "cell_type": "code",
   "execution_count": 17,
   "metadata": {},
   "outputs": [],
   "source": [
    "import pandas as pd\n",
    "import numpy as np\n",
    "import seaborn as sns\n",
    "import matplotlib.pyplot as plt\n",
    "%matplotlib inline"
   ]
  },
  {
   "cell_type": "code",
   "execution_count": 18,
   "metadata": {},
   "outputs": [],
   "source": [
    "df=pd.read_csv('Chapter4_PE_Income_Spending_DataSet.csv')"
   ]
  },
  {
   "cell_type": "code",
   "execution_count": 19,
   "metadata": {},
   "outputs": [
    {
     "data": {
      "text/html": [
       "<div>\n",
       "<style scoped>\n",
       "    .dataframe tbody tr th:only-of-type {\n",
       "        vertical-align: middle;\n",
       "    }\n",
       "\n",
       "    .dataframe tbody tr th {\n",
       "        vertical-align: top;\n",
       "    }\n",
       "\n",
       "    .dataframe thead th {\n",
       "        text-align: right;\n",
       "    }\n",
       "</style>\n",
       "<table border=\"1\" class=\"dataframe\">\n",
       "  <thead>\n",
       "    <tr style=\"text-align: right;\">\n",
       "      <th></th>\n",
       "      <th>Petroleum_Engineer_Age</th>\n",
       "      <th>Petroleum_Engineer_Income (K$)</th>\n",
       "      <th>Spending_Habits (From 1 to 100)</th>\n",
       "    </tr>\n",
       "  </thead>\n",
       "  <tbody>\n",
       "    <tr>\n",
       "      <th>count</th>\n",
       "      <td>200.000000</td>\n",
       "      <td>200.000000</td>\n",
       "      <td>200.000000</td>\n",
       "    </tr>\n",
       "    <tr>\n",
       "      <th>mean</th>\n",
       "      <td>38.850000</td>\n",
       "      <td>140.000000</td>\n",
       "      <td>47.690000</td>\n",
       "    </tr>\n",
       "    <tr>\n",
       "      <th>std</th>\n",
       "      <td>13.969007</td>\n",
       "      <td>60.717651</td>\n",
       "      <td>24.532346</td>\n",
       "    </tr>\n",
       "    <tr>\n",
       "      <th>min</th>\n",
       "      <td>18.000000</td>\n",
       "      <td>34.676354</td>\n",
       "      <td>0.950000</td>\n",
       "    </tr>\n",
       "    <tr>\n",
       "      <th>25%</th>\n",
       "      <td>28.750000</td>\n",
       "      <td>95.937913</td>\n",
       "      <td>33.012500</td>\n",
       "    </tr>\n",
       "    <tr>\n",
       "      <th>50%</th>\n",
       "      <td>36.000000</td>\n",
       "      <td>142.173052</td>\n",
       "      <td>47.500000</td>\n",
       "    </tr>\n",
       "    <tr>\n",
       "      <th>75%</th>\n",
       "      <td>49.000000</td>\n",
       "      <td>180.317041</td>\n",
       "      <td>69.350000</td>\n",
       "    </tr>\n",
       "    <tr>\n",
       "      <th>max</th>\n",
       "      <td>70.000000</td>\n",
       "      <td>316.710700</td>\n",
       "      <td>94.050000</td>\n",
       "    </tr>\n",
       "  </tbody>\n",
       "</table>\n",
       "</div>"
      ],
      "text/plain": [
       "       Petroleum_Engineer_Age  Petroleum_Engineer_Income (K$)  \\\n",
       "count              200.000000                      200.000000   \n",
       "mean                38.850000                      140.000000   \n",
       "std                 13.969007                       60.717651   \n",
       "min                 18.000000                       34.676354   \n",
       "25%                 28.750000                       95.937913   \n",
       "50%                 36.000000                      142.173052   \n",
       "75%                 49.000000                      180.317041   \n",
       "max                 70.000000                      316.710700   \n",
       "\n",
       "       Spending_Habits (From 1 to 100)  \n",
       "count                       200.000000  \n",
       "mean                         47.690000  \n",
       "std                          24.532346  \n",
       "min                           0.950000  \n",
       "25%                          33.012500  \n",
       "50%                          47.500000  \n",
       "75%                          69.350000  \n",
       "max                          94.050000  "
      ]
     },
     "execution_count": 19,
     "metadata": {},
     "output_type": "execute_result"
    }
   ],
   "source": [
    "df.describe()"
   ]
  },
  {
   "cell_type": "code",
   "execution_count": 20,
   "metadata": {},
   "outputs": [],
   "source": [
    "df=pd.get_dummies(df,drop_first=True)"
   ]
  },
  {
   "cell_type": "code",
   "execution_count": 21,
   "metadata": {},
   "outputs": [
    {
     "data": {
      "text/html": [
       "<div>\n",
       "<style scoped>\n",
       "    .dataframe tbody tr th:only-of-type {\n",
       "        vertical-align: middle;\n",
       "    }\n",
       "\n",
       "    .dataframe tbody tr th {\n",
       "        vertical-align: top;\n",
       "    }\n",
       "\n",
       "    .dataframe thead th {\n",
       "        text-align: right;\n",
       "    }\n",
       "</style>\n",
       "<table border=\"1\" class=\"dataframe\">\n",
       "  <thead>\n",
       "    <tr style=\"text-align: right;\">\n",
       "      <th></th>\n",
       "      <th>Petroleum_Engineer_Age</th>\n",
       "      <th>Petroleum_Engineer_Income (K$)</th>\n",
       "      <th>Spending_Habits (From 1 to 100)</th>\n",
       "      <th>Petroleum_Engineer_Gender_Male</th>\n",
       "    </tr>\n",
       "  </thead>\n",
       "  <tbody>\n",
       "    <tr>\n",
       "      <th>0</th>\n",
       "      <td>19</td>\n",
       "      <td>34.676354</td>\n",
       "      <td>37.05</td>\n",
       "      <td>1</td>\n",
       "    </tr>\n",
       "    <tr>\n",
       "      <th>1</th>\n",
       "      <td>21</td>\n",
       "      <td>34.676354</td>\n",
       "      <td>76.95</td>\n",
       "      <td>1</td>\n",
       "    </tr>\n",
       "    <tr>\n",
       "      <th>2</th>\n",
       "      <td>20</td>\n",
       "      <td>36.988111</td>\n",
       "      <td>5.70</td>\n",
       "      <td>0</td>\n",
       "    </tr>\n",
       "    <tr>\n",
       "      <th>3</th>\n",
       "      <td>23</td>\n",
       "      <td>36.988111</td>\n",
       "      <td>73.15</td>\n",
       "      <td>0</td>\n",
       "    </tr>\n",
       "    <tr>\n",
       "      <th>4</th>\n",
       "      <td>31</td>\n",
       "      <td>39.299868</td>\n",
       "      <td>38.00</td>\n",
       "      <td>0</td>\n",
       "    </tr>\n",
       "    <tr>\n",
       "      <th>...</th>\n",
       "      <td>...</td>\n",
       "      <td>...</td>\n",
       "      <td>...</td>\n",
       "      <td>...</td>\n",
       "    </tr>\n",
       "    <tr>\n",
       "      <th>195</th>\n",
       "      <td>35</td>\n",
       "      <td>277.410832</td>\n",
       "      <td>75.05</td>\n",
       "      <td>0</td>\n",
       "    </tr>\n",
       "    <tr>\n",
       "      <th>196</th>\n",
       "      <td>45</td>\n",
       "      <td>291.281374</td>\n",
       "      <td>26.60</td>\n",
       "      <td>0</td>\n",
       "    </tr>\n",
       "    <tr>\n",
       "      <th>197</th>\n",
       "      <td>32</td>\n",
       "      <td>291.281374</td>\n",
       "      <td>70.30</td>\n",
       "      <td>1</td>\n",
       "    </tr>\n",
       "    <tr>\n",
       "      <th>198</th>\n",
       "      <td>32</td>\n",
       "      <td>316.710700</td>\n",
       "      <td>17.10</td>\n",
       "      <td>1</td>\n",
       "    </tr>\n",
       "    <tr>\n",
       "      <th>199</th>\n",
       "      <td>30</td>\n",
       "      <td>316.710700</td>\n",
       "      <td>78.85</td>\n",
       "      <td>1</td>\n",
       "    </tr>\n",
       "  </tbody>\n",
       "</table>\n",
       "<p>200 rows × 4 columns</p>\n",
       "</div>"
      ],
      "text/plain": [
       "     Petroleum_Engineer_Age  Petroleum_Engineer_Income (K$)  \\\n",
       "0                        19                       34.676354   \n",
       "1                        21                       34.676354   \n",
       "2                        20                       36.988111   \n",
       "3                        23                       36.988111   \n",
       "4                        31                       39.299868   \n",
       "..                      ...                             ...   \n",
       "195                      35                      277.410832   \n",
       "196                      45                      291.281374   \n",
       "197                      32                      291.281374   \n",
       "198                      32                      316.710700   \n",
       "199                      30                      316.710700   \n",
       "\n",
       "     Spending_Habits (From 1 to 100)  Petroleum_Engineer_Gender_Male  \n",
       "0                              37.05                               1  \n",
       "1                              76.95                               1  \n",
       "2                               5.70                               0  \n",
       "3                              73.15                               0  \n",
       "4                              38.00                               0  \n",
       "..                               ...                             ...  \n",
       "195                            75.05                               0  \n",
       "196                            26.60                               0  \n",
       "197                            70.30                               1  \n",
       "198                            17.10                               1  \n",
       "199                            78.85                               1  \n",
       "\n",
       "[200 rows x 4 columns]"
      ]
     },
     "execution_count": 21,
     "metadata": {},
     "output_type": "execute_result"
    }
   ],
   "source": [
    "df"
   ]
  },
  {
   "cell_type": "code",
   "execution_count": 22,
   "metadata": {},
   "outputs": [
    {
     "data": {
      "text/plain": [
       "<matplotlib.axes._subplots.AxesSubplot at 0x234755c9bc8>"
      ]
     },
     "execution_count": 22,
     "metadata": {},
     "output_type": "execute_result"
    },
    {
     "data": {
      "image/png": "[encoded data removed]",
      "text/plain": [
       "<Figure size 432x288 with 1 Axes>"
      ]
     },
     "metadata": {
      "needs_background": "light"
     },
     "output_type": "display_data"
    }
   ],
   "source": [
    "sns.boxplot(df['Petroleum_Engineer_Age'], color='orange')"
   ]
  },
  {
   "cell_type": "code",
   "execution_count": 23,
   "metadata": {},
   "outputs": [
    {
     "data": {
      "text/plain": [
       "<matplotlib.axes._subplots.AxesSubplot at 0x2347592a088>"
      ]
     },
     "execution_count": 23,
     "metadata": {},
     "output_type": "execute_result"
    },
    {
     "data": {
      "image/png": "[encoded data removed]",
      "text/plain": [
       "<Figure size 432x288 with 1 Axes>"
      ]
     },
     "metadata": {
      "needs_background": "light"
     },
     "output_type": "display_data"
    }
   ],
   "source": [
    "sns.boxplot(df['Petroleum_Engineer_Income (K$)'], color='orange')"
   ]
  },
  {
   "cell_type": "code",
   "execution_count": 24,
   "metadata": {},
   "outputs": [
    {
     "data": {
      "text/plain": [
       "<matplotlib.axes._subplots.AxesSubplot at 0x23473160e08>"
      ]
     },
     "execution_count": 24,
     "metadata": {},
     "output_type": "execute_result"
    },
    {
     "data": {
      "image/png": "[encoded data removed]",
      "text/plain": [
       "<Figure size 432x288 with 1 Axes>"
      ]
     },
     "metadata": {
      "needs_background": "light"
     },
     "output_type": "display_data"
    }
   ],
   "source": [
    "sns.boxplot(df['Spending_Habits (From 1 to 100)'], color='orange')"
   ]
  },
  {
   "cell_type": "code",
   "execution_count": 25,
   "metadata": {},
   "outputs": [
    {
     "data": {
      "text/plain": [
       "<matplotlib.axes._subplots.AxesSubplot at 0x234755a77c8>"
      ]
     },
     "execution_count": 25,
     "metadata": {},
     "output_type": "execute_result"
    },
    {
     "data": {
      "image/png": "[encoded data removed]",
      "text/plain": [
       "<Figure size 432x288 with 1 Axes>"
      ]
     },
     "metadata": {
      "needs_background": "light"
     },
     "output_type": "display_data"
    }
   ],
   "source": [
    "sns.boxplot(df['Petroleum_Engineer_Gender_Male'], color='orange')"
   ]
  },
  {
   "cell_type": "code",
   "execution_count": 26,
   "metadata": {},
   "outputs": [
    {
     "data": {
      "text/plain": [
       "Index(['Petroleum_Engineer_Age', 'Petroleum_Engineer_Income (K$)',\n",
       "       'Spending_Habits (From 1 to 100)', 'Petroleum_Engineer_Gender_Male'],\n",
       "      dtype='object')"
      ]
     },
     "execution_count": 26,
     "metadata": {},
     "output_type": "execute_result"
    }
   ],
   "source": [
    "df.columns"
   ]
  },
  {
   "cell_type": "code",
   "execution_count": 27,
   "metadata": {},
   "outputs": [
    {
     "name": "stderr",
     "output_type": "stream",
     "text": [
      "C:\\Users\\Hoss\\anaconda3\\lib\\site-packages\\sklearn\\ensemble\\_iforest.py:281: UserWarning: max_samples (250) is greater than the total number of samples (200). max_samples will be set to n_samples for estimation.\n",
      "  % (self.max_samples, n_samples))\n"
     ]
    },
    {
     "data": {
      "text/plain": [
       "IsolationForest(behaviour='deprecated', bootstrap=False, contamination=0.1,\n",
       "                max_features=1.0, max_samples=250, n_estimators=100,\n",
       "                n_jobs=None, random_state=100, verbose=0, warm_start=False)"
      ]
     },
     "execution_count": 27,
     "metadata": {},
     "output_type": "execute_result"
    }
   ],
   "source": [
    "from sklearn.ensemble import IsolationForest\n",
    "clf = IsolationForest(n_estimators=100,max_samples=250,random_state=100, contamination=0.1) \n",
    "clf.fit(df)"
   ]
  },
  {
   "cell_type": "code",
   "execution_count": 28,
   "metadata": {},
   "outputs": [
    {
     "data": {
      "text/html": [
       "<div>\n",
       "<style scoped>\n",
       "    .dataframe tbody tr th:only-of-type {\n",
       "        vertical-align: middle;\n",
       "    }\n",
       "\n",
       "    .dataframe tbody tr th {\n",
       "        vertical-align: top;\n",
       "    }\n",
       "\n",
       "    .dataframe thead th {\n",
       "        text-align: right;\n",
       "    }\n",
       "</style>\n",
       "<table border=\"1\" class=\"dataframe\">\n",
       "  <thead>\n",
       "    <tr style=\"text-align: right;\">\n",
       "      <th></th>\n",
       "      <th>Petroleum_Engineer_Age</th>\n",
       "      <th>Petroleum_Engineer_Income (K$)</th>\n",
       "      <th>Spending_Habits (From 1 to 100)</th>\n",
       "      <th>Petroleum_Engineer_Gender_Male</th>\n",
       "    </tr>\n",
       "  </thead>\n",
       "  <tbody>\n",
       "    <tr>\n",
       "      <th>0</th>\n",
       "      <td>19</td>\n",
       "      <td>34.676354</td>\n",
       "      <td>37.05</td>\n",
       "      <td>1</td>\n",
       "    </tr>\n",
       "    <tr>\n",
       "      <th>1</th>\n",
       "      <td>21</td>\n",
       "      <td>34.676354</td>\n",
       "      <td>76.95</td>\n",
       "      <td>1</td>\n",
       "    </tr>\n",
       "    <tr>\n",
       "      <th>2</th>\n",
       "      <td>20</td>\n",
       "      <td>36.988111</td>\n",
       "      <td>5.70</td>\n",
       "      <td>0</td>\n",
       "    </tr>\n",
       "    <tr>\n",
       "      <th>3</th>\n",
       "      <td>23</td>\n",
       "      <td>36.988111</td>\n",
       "      <td>73.15</td>\n",
       "      <td>0</td>\n",
       "    </tr>\n",
       "    <tr>\n",
       "      <th>4</th>\n",
       "      <td>31</td>\n",
       "      <td>39.299868</td>\n",
       "      <td>38.00</td>\n",
       "      <td>0</td>\n",
       "    </tr>\n",
       "    <tr>\n",
       "      <th>...</th>\n",
       "      <td>...</td>\n",
       "      <td>...</td>\n",
       "      <td>...</td>\n",
       "      <td>...</td>\n",
       "    </tr>\n",
       "    <tr>\n",
       "      <th>195</th>\n",
       "      <td>35</td>\n",
       "      <td>277.410832</td>\n",
       "      <td>75.05</td>\n",
       "      <td>0</td>\n",
       "    </tr>\n",
       "    <tr>\n",
       "      <th>196</th>\n",
       "      <td>45</td>\n",
       "      <td>291.281374</td>\n",
       "      <td>26.60</td>\n",
       "      <td>0</td>\n",
       "    </tr>\n",
       "    <tr>\n",
       "      <th>197</th>\n",
       "      <td>32</td>\n",
       "      <td>291.281374</td>\n",
       "      <td>70.30</td>\n",
       "      <td>1</td>\n",
       "    </tr>\n",
       "    <tr>\n",
       "      <th>198</th>\n",
       "      <td>32</td>\n",
       "      <td>316.710700</td>\n",
       "      <td>17.10</td>\n",
       "      <td>1</td>\n",
       "    </tr>\n",
       "    <tr>\n",
       "      <th>199</th>\n",
       "      <td>30</td>\n",
       "      <td>316.710700</td>\n",
       "      <td>78.85</td>\n",
       "      <td>1</td>\n",
       "    </tr>\n",
       "  </tbody>\n",
       "</table>\n",
       "<p>200 rows × 4 columns</p>\n",
       "</div>"
      ],
      "text/plain": [
       "     Petroleum_Engineer_Age  Petroleum_Engineer_Income (K$)  \\\n",
       "0                        19                       34.676354   \n",
       "1                        21                       34.676354   \n",
       "2                        20                       36.988111   \n",
       "3                        23                       36.988111   \n",
       "4                        31                       39.299868   \n",
       "..                      ...                             ...   \n",
       "195                      35                      277.410832   \n",
       "196                      45                      291.281374   \n",
       "197                      32                      291.281374   \n",
       "198                      32                      316.710700   \n",
       "199                      30                      316.710700   \n",
       "\n",
       "     Spending_Habits (From 1 to 100)  Petroleum_Engineer_Gender_Male  \n",
       "0                              37.05                               1  \n",
       "1                              76.95                               1  \n",
       "2                               5.70                               0  \n",
       "3                              73.15                               0  \n",
       "4                              38.00                               0  \n",
       "..                               ...                             ...  \n",
       "195                            75.05                               0  \n",
       "196                            26.60                               0  \n",
       "197                            70.30                               1  \n",
       "198                            17.10                               1  \n",
       "199                            78.85                               1  \n",
       "\n",
       "[200 rows x 4 columns]"
      ]
     },
     "execution_count": 28,
     "metadata": {},
     "output_type": "execute_result"
    }
   ],
   "source": [
    "df.iloc[:,:4]"
   ]
  },
  {
   "cell_type": "code",
   "execution_count": 29,
   "metadata": {},
   "outputs": [
    {
     "data": {
      "text/plain": [
       "Text(0.5, 1.0, 'Histogram of Average Anomaly Scores: Lower Scores = More Anomalous Samples')"
      ]
     },
     "execution_count": 29,
     "metadata": {},
     "output_type": "execute_result"
    },
    {
     "data": {
      "image/png": "[encoded data removed]",
      "text/plain": [
       "<Figure size 864x576 with 1 Axes>"
      ]
     },
     "metadata": {
      "needs_background": "light"
     },
     "output_type": "display_data"
    }
   ],
   "source": [
    "df['Scores']=clf.decision_function(df)\n",
    "plt.figure(figsize=(12,8))\n",
    "plt.hist(df['Scores'])\n",
    "plt.title('Histogram of Average Anomaly Scores: Lower Scores = More Anomalous Samples')"
   ]
  },
  {
   "cell_type": "code",
   "execution_count": 30,
   "metadata": {},
   "outputs": [
    {
     "data": {
      "text/html": [
       "<div>\n",
       "<style scoped>\n",
       "    .dataframe tbody tr th:only-of-type {\n",
       "        vertical-align: middle;\n",
       "    }\n",
       "\n",
       "    .dataframe tbody tr th {\n",
       "        vertical-align: top;\n",
       "    }\n",
       "\n",
       "    .dataframe thead th {\n",
       "        text-align: right;\n",
       "    }\n",
       "</style>\n",
       "<table border=\"1\" class=\"dataframe\">\n",
       "  <thead>\n",
       "    <tr style=\"text-align: right;\">\n",
       "      <th></th>\n",
       "      <th>Petroleum_Engineer_Age</th>\n",
       "      <th>Petroleum_Engineer_Income (K$)</th>\n",
       "      <th>Spending_Habits (From 1 to 100)</th>\n",
       "      <th>Petroleum_Engineer_Gender_Male</th>\n",
       "      <th>Scores</th>\n",
       "    </tr>\n",
       "  </thead>\n",
       "  <tbody>\n",
       "    <tr>\n",
       "      <th>0</th>\n",
       "      <td>19</td>\n",
       "      <td>34.676354</td>\n",
       "      <td>37.05</td>\n",
       "      <td>1</td>\n",
       "      <td>-0.032601</td>\n",
       "    </tr>\n",
       "    <tr>\n",
       "      <th>1</th>\n",
       "      <td>21</td>\n",
       "      <td>34.676354</td>\n",
       "      <td>76.95</td>\n",
       "      <td>1</td>\n",
       "      <td>-0.004939</td>\n",
       "    </tr>\n",
       "    <tr>\n",
       "      <th>2</th>\n",
       "      <td>20</td>\n",
       "      <td>36.988111</td>\n",
       "      <td>5.70</td>\n",
       "      <td>0</td>\n",
       "      <td>-0.060046</td>\n",
       "    </tr>\n",
       "    <tr>\n",
       "      <th>3</th>\n",
       "      <td>23</td>\n",
       "      <td>36.988111</td>\n",
       "      <td>73.15</td>\n",
       "      <td>0</td>\n",
       "      <td>0.054590</td>\n",
       "    </tr>\n",
       "    <tr>\n",
       "      <th>4</th>\n",
       "      <td>31</td>\n",
       "      <td>39.299868</td>\n",
       "      <td>38.00</td>\n",
       "      <td>0</td>\n",
       "      <td>0.048783</td>\n",
       "    </tr>\n",
       "    <tr>\n",
       "      <th>...</th>\n",
       "      <td>...</td>\n",
       "      <td>...</td>\n",
       "      <td>...</td>\n",
       "      <td>...</td>\n",
       "      <td>...</td>\n",
       "    </tr>\n",
       "    <tr>\n",
       "      <th>195</th>\n",
       "      <td>35</td>\n",
       "      <td>277.410832</td>\n",
       "      <td>75.05</td>\n",
       "      <td>0</td>\n",
       "      <td>0.008952</td>\n",
       "    </tr>\n",
       "    <tr>\n",
       "      <th>196</th>\n",
       "      <td>45</td>\n",
       "      <td>291.281374</td>\n",
       "      <td>26.60</td>\n",
       "      <td>0</td>\n",
       "      <td>-0.033078</td>\n",
       "    </tr>\n",
       "    <tr>\n",
       "      <th>197</th>\n",
       "      <td>32</td>\n",
       "      <td>291.281374</td>\n",
       "      <td>70.30</td>\n",
       "      <td>1</td>\n",
       "      <td>0.006787</td>\n",
       "    </tr>\n",
       "    <tr>\n",
       "      <th>198</th>\n",
       "      <td>32</td>\n",
       "      <td>316.710700</td>\n",
       "      <td>17.10</td>\n",
       "      <td>1</td>\n",
       "      <td>-0.044971</td>\n",
       "    </tr>\n",
       "    <tr>\n",
       "      <th>199</th>\n",
       "      <td>30</td>\n",
       "      <td>316.710700</td>\n",
       "      <td>78.85</td>\n",
       "      <td>1</td>\n",
       "      <td>-0.040957</td>\n",
       "    </tr>\n",
       "  </tbody>\n",
       "</table>\n",
       "<p>200 rows × 5 columns</p>\n",
       "</div>"
      ],
      "text/plain": [
       "     Petroleum_Engineer_Age  Petroleum_Engineer_Income (K$)  \\\n",
       "0                        19                       34.676354   \n",
       "1                        21                       34.676354   \n",
       "2                        20                       36.988111   \n",
       "3                        23                       36.988111   \n",
       "4                        31                       39.299868   \n",
       "..                      ...                             ...   \n",
       "195                      35                      277.410832   \n",
       "196                      45                      291.281374   \n",
       "197                      32                      291.281374   \n",
       "198                      32                      316.710700   \n",
       "199                      30                      316.710700   \n",
       "\n",
       "     Spending_Habits (From 1 to 100)  Petroleum_Engineer_Gender_Male    Scores  \n",
       "0                              37.05                               1 -0.032601  \n",
       "1                              76.95                               1 -0.004939  \n",
       "2                               5.70                               0 -0.060046  \n",
       "3                              73.15                               0  0.054590  \n",
       "4                              38.00                               0  0.048783  \n",
       "..                               ...                             ...       ...  \n",
       "195                            75.05                               0  0.008952  \n",
       "196                            26.60                               0 -0.033078  \n",
       "197                            70.30                               1  0.006787  \n",
       "198                            17.10                               1 -0.044971  \n",
       "199                            78.85                               1 -0.040957  \n",
       "\n",
       "[200 rows x 5 columns]"
      ]
     },
     "execution_count": 30,
     "metadata": {},
     "output_type": "execute_result"
    }
   ],
   "source": [
    "df"
   ]
  },
  {
   "cell_type": "code",
   "execution_count": 31,
   "metadata": {},
   "outputs": [
    {
     "data": {
      "text/html": [
       "<div>\n",
       "<style scoped>\n",
       "    .dataframe tbody tr th:only-of-type {\n",
       "        vertical-align: middle;\n",
       "    }\n",
       "\n",
       "    .dataframe tbody tr th {\n",
       "        vertical-align: top;\n",
       "    }\n",
       "\n",
       "    .dataframe thead th {\n",
       "        text-align: right;\n",
       "    }\n",
       "</style>\n",
       "<table border=\"1\" class=\"dataframe\">\n",
       "  <thead>\n",
       "    <tr style=\"text-align: right;\">\n",
       "      <th></th>\n",
       "      <th>Petroleum_Engineer_Age</th>\n",
       "      <th>Petroleum_Engineer_Income (K$)</th>\n",
       "      <th>Spending_Habits (From 1 to 100)</th>\n",
       "      <th>Petroleum_Engineer_Gender_Male</th>\n",
       "      <th>Scores</th>\n",
       "      <th>Anomaly</th>\n",
       "    </tr>\n",
       "  </thead>\n",
       "  <tbody>\n",
       "    <tr>\n",
       "      <th>0</th>\n",
       "      <td>19</td>\n",
       "      <td>34.676354</td>\n",
       "      <td>37.05</td>\n",
       "      <td>1</td>\n",
       "      <td>-0.032601</td>\n",
       "      <td>-1</td>\n",
       "    </tr>\n",
       "    <tr>\n",
       "      <th>1</th>\n",
       "      <td>21</td>\n",
       "      <td>34.676354</td>\n",
       "      <td>76.95</td>\n",
       "      <td>1</td>\n",
       "      <td>-0.004939</td>\n",
       "      <td>-1</td>\n",
       "    </tr>\n",
       "    <tr>\n",
       "      <th>2</th>\n",
       "      <td>20</td>\n",
       "      <td>36.988111</td>\n",
       "      <td>5.70</td>\n",
       "      <td>0</td>\n",
       "      <td>-0.060046</td>\n",
       "      <td>-1</td>\n",
       "    </tr>\n",
       "    <tr>\n",
       "      <th>6</th>\n",
       "      <td>35</td>\n",
       "      <td>41.611625</td>\n",
       "      <td>5.70</td>\n",
       "      <td>0</td>\n",
       "      <td>-0.006933</td>\n",
       "      <td>-1</td>\n",
       "    </tr>\n",
       "    <tr>\n",
       "      <th>8</th>\n",
       "      <td>64</td>\n",
       "      <td>43.923382</td>\n",
       "      <td>2.85</td>\n",
       "      <td>1</td>\n",
       "      <td>-0.058308</td>\n",
       "      <td>-1</td>\n",
       "    </tr>\n",
       "    <tr>\n",
       "      <th>10</th>\n",
       "      <td>67</td>\n",
       "      <td>43.923382</td>\n",
       "      <td>13.30</td>\n",
       "      <td>1</td>\n",
       "      <td>-0.058579</td>\n",
       "      <td>-1</td>\n",
       "    </tr>\n",
       "    <tr>\n",
       "      <th>12</th>\n",
       "      <td>58</td>\n",
       "      <td>46.235139</td>\n",
       "      <td>14.25</td>\n",
       "      <td>0</td>\n",
       "      <td>-0.012855</td>\n",
       "      <td>-1</td>\n",
       "    </tr>\n",
       "    <tr>\n",
       "      <th>14</th>\n",
       "      <td>37</td>\n",
       "      <td>46.235139</td>\n",
       "      <td>12.35</td>\n",
       "      <td>1</td>\n",
       "      <td>-0.010101</td>\n",
       "      <td>-1</td>\n",
       "    </tr>\n",
       "    <tr>\n",
       "      <th>18</th>\n",
       "      <td>52</td>\n",
       "      <td>53.170410</td>\n",
       "      <td>27.55</td>\n",
       "      <td>1</td>\n",
       "      <td>-0.008263</td>\n",
       "      <td>-1</td>\n",
       "    </tr>\n",
       "    <tr>\n",
       "      <th>30</th>\n",
       "      <td>60</td>\n",
       "      <td>69.352708</td>\n",
       "      <td>3.80</td>\n",
       "      <td>1</td>\n",
       "      <td>-0.011495</td>\n",
       "      <td>-1</td>\n",
       "    </tr>\n",
       "    <tr>\n",
       "      <th>32</th>\n",
       "      <td>53</td>\n",
       "      <td>76.287979</td>\n",
       "      <td>3.80</td>\n",
       "      <td>1</td>\n",
       "      <td>-0.000866</td>\n",
       "      <td>-1</td>\n",
       "    </tr>\n",
       "    <tr>\n",
       "      <th>33</th>\n",
       "      <td>18</td>\n",
       "      <td>76.287979</td>\n",
       "      <td>87.40</td>\n",
       "      <td>1</td>\n",
       "      <td>-0.024124</td>\n",
       "      <td>-1</td>\n",
       "    </tr>\n",
       "    <tr>\n",
       "      <th>40</th>\n",
       "      <td>65</td>\n",
       "      <td>87.846764</td>\n",
       "      <td>33.25</td>\n",
       "      <td>0</td>\n",
       "      <td>-0.001817</td>\n",
       "      <td>-1</td>\n",
       "    </tr>\n",
       "    <tr>\n",
       "      <th>140</th>\n",
       "      <td>57</td>\n",
       "      <td>173.381770</td>\n",
       "      <td>4.75</td>\n",
       "      <td>0</td>\n",
       "      <td>-0.014385</td>\n",
       "      <td>-1</td>\n",
       "    </tr>\n",
       "    <tr>\n",
       "      <th>162</th>\n",
       "      <td>19</td>\n",
       "      <td>187.252312</td>\n",
       "      <td>4.75</td>\n",
       "      <td>1</td>\n",
       "      <td>-0.006069</td>\n",
       "      <td>-1</td>\n",
       "    </tr>\n",
       "    <tr>\n",
       "      <th>178</th>\n",
       "      <td>59</td>\n",
       "      <td>214.993395</td>\n",
       "      <td>13.30</td>\n",
       "      <td>1</td>\n",
       "      <td>-0.005844</td>\n",
       "      <td>-1</td>\n",
       "    </tr>\n",
       "    <tr>\n",
       "      <th>194</th>\n",
       "      <td>47</td>\n",
       "      <td>277.410832</td>\n",
       "      <td>15.20</td>\n",
       "      <td>0</td>\n",
       "      <td>-0.009086</td>\n",
       "      <td>-1</td>\n",
       "    </tr>\n",
       "    <tr>\n",
       "      <th>196</th>\n",
       "      <td>45</td>\n",
       "      <td>291.281374</td>\n",
       "      <td>26.60</td>\n",
       "      <td>0</td>\n",
       "      <td>-0.033078</td>\n",
       "      <td>-1</td>\n",
       "    </tr>\n",
       "    <tr>\n",
       "      <th>198</th>\n",
       "      <td>32</td>\n",
       "      <td>316.710700</td>\n",
       "      <td>17.10</td>\n",
       "      <td>1</td>\n",
       "      <td>-0.044971</td>\n",
       "      <td>-1</td>\n",
       "    </tr>\n",
       "    <tr>\n",
       "      <th>199</th>\n",
       "      <td>30</td>\n",
       "      <td>316.710700</td>\n",
       "      <td>78.85</td>\n",
       "      <td>1</td>\n",
       "      <td>-0.040957</td>\n",
       "      <td>-1</td>\n",
       "    </tr>\n",
       "  </tbody>\n",
       "</table>\n",
       "</div>"
      ],
      "text/plain": [
       "     Petroleum_Engineer_Age  Petroleum_Engineer_Income (K$)  \\\n",
       "0                        19                       34.676354   \n",
       "1                        21                       34.676354   \n",
       "2                        20                       36.988111   \n",
       "6                        35                       41.611625   \n",
       "8                        64                       43.923382   \n",
       "10                       67                       43.923382   \n",
       "12                       58                       46.235139   \n",
       "14                       37                       46.235139   \n",
       "18                       52                       53.170410   \n",
       "30                       60                       69.352708   \n",
       "32                       53                       76.287979   \n",
       "33                       18                       76.287979   \n",
       "40                       65                       87.846764   \n",
       "140                      57                      173.381770   \n",
       "162                      19                      187.252312   \n",
       "178                      59                      214.993395   \n",
       "194                      47                      277.410832   \n",
       "196                      45                      291.281374   \n",
       "198                      32                      316.710700   \n",
       "199                      30                      316.710700   \n",
       "\n",
       "     Spending_Habits (From 1 to 100)  Petroleum_Engineer_Gender_Male  \\\n",
       "0                              37.05                               1   \n",
       "1                              76.95                               1   \n",
       "2                               5.70                               0   \n",
       "6                               5.70                               0   \n",
       "8                               2.85                               1   \n",
       "10                             13.30                               1   \n",
       "12                             14.25                               0   \n",
       "14                             12.35                               1   \n",
       "18                             27.55                               1   \n",
       "30                              3.80                               1   \n",
       "32                              3.80                               1   \n",
       "33                             87.40                               1   \n",
       "40                             33.25                               0   \n",
       "140                             4.75                               0   \n",
       "162                             4.75                               1   \n",
       "178                            13.30                               1   \n",
       "194                            15.20                               0   \n",
       "196                            26.60                               0   \n",
       "198                            17.10                               1   \n",
       "199                            78.85                               1   \n",
       "\n",
       "       Scores  Anomaly  \n",
       "0   -0.032601       -1  \n",
       "1   -0.004939       -1  \n",
       "2   -0.060046       -1  \n",
       "6   -0.006933       -1  \n",
       "8   -0.058308       -1  \n",
       "10  -0.058579       -1  \n",
       "12  -0.012855       -1  \n",
       "14  -0.010101       -1  \n",
       "18  -0.008263       -1  \n",
       "30  -0.011495       -1  \n",
       "32  -0.000866       -1  \n",
       "33  -0.024124       -1  \n",
       "40  -0.001817       -1  \n",
       "140 -0.014385       -1  \n",
       "162 -0.006069       -1  \n",
       "178 -0.005844       -1  \n",
       "194 -0.009086       -1  \n",
       "196 -0.033078       -1  \n",
       "198 -0.044971       -1  \n",
       "199 -0.040957       -1  "
      ]
     },
     "execution_count": 31,
     "metadata": {},
     "output_type": "execute_result"
    }
   ],
   "source": [
    "df['Anomaly']=clf.predict(df.iloc[:,:4])\n",
    "Anomaly=df.loc[df['Anomaly']==-1]\n",
    "Anomaly_index=list(Anomaly.index)\n",
    "Anomaly"
   ]
  },
  {
   "cell_type": "code",
   "execution_count": 32,
   "metadata": {},
   "outputs": [
    {
     "data": {
      "text/plain": [
       "Text(0.5, 1.0, 'Isolation Forest Anomalies')"
      ]
     },
     "execution_count": 32,
     "metadata": {},
     "output_type": "execute_result"
    },
    {
     "data": {
      "image/png": "[encoded data removed]",
      "text/plain": [
       "<Figure size 864x576 with 1 Axes>"
      ]
     },
     "metadata": {
      "needs_background": "light"
     },
     "output_type": "display_data"
    }
   ],
   "source": [
    "plt.figure(figsize=(12,8))\n",
    "groups = df.groupby(\"Anomaly\")\n",
    "for name, group in groups:\n",
    "    plt.plot(group['Petroleum_Engineer_Income (K$)'], group['Spending_Habits (From 1 to 100)'], marker=\"o\", linestyle=\"\", label=name)\n",
    "plt.xlabel('Petroleum Engineer Income')\n",
    "plt.ylabel('Petroleum Engineer Spending Habits')\n",
    "plt.title('Isolation Forest Anomalies')    "
   ]
  },
  {
   "cell_type": "code",
   "execution_count": null,
   "metadata": {},
   "outputs": [],
   "source": []
  }
 ],
 "metadata": {
  "kernelspec": {
   "display_name": "Python 3",
   "language": "python",
   "name": "python3"
  },
  "language_info": {
   "codemirror_mode": {
    "name": "ipython",
    "version": 3
   },
   "file_extension": ".py",
   "mimetype": "text/x-python",
   "name": "python",
   "nbconvert_exporter": "python",
   "pygments_lexer": "ipython3",
   "version": "3.7.6"
  }
 },
 "nbformat": 4,
 "nbformat_minor": 4
}
