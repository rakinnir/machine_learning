{
 "cells": [
  {
   "cell_type": "code",
   "execution_count": 1,
   "metadata": {},
   "outputs": [],
   "source": [
    "import pandas as pd\n",
    "from scipy import stats\n",
    "from sklearn.cluster import KMeans\n",
    "import matplotlib.pyplot as plt\n",
    "import seaborn as sns\n",
    "import pandas as pd\n",
    "from sklearn import preprocessing\n",
    "import pylab as pl\n",
    "import numpy as np\n",
    "%matplotlib inline"
   ]
  },
  {
   "cell_type": "code",
   "execution_count": 2,
   "metadata": {},
   "outputs": [
    {
     "data": {
      "text/html": [
       "<div>\n",
       "<style scoped>\n",
       "    .dataframe tbody tr th:only-of-type {\n",
       "        vertical-align: middle;\n",
       "    }\n",
       "\n",
       "    .dataframe tbody tr th {\n",
       "        vertical-align: top;\n",
       "    }\n",
       "\n",
       "    .dataframe thead th {\n",
       "        text-align: right;\n",
       "    }\n",
       "</style>\n",
       "<table border=\"1\" class=\"dataframe\">\n",
       "  <thead>\n",
       "    <tr style=\"text-align: right;\">\n",
       "      <th></th>\n",
       "      <th>GR_API</th>\n",
       "      <th>Bulk Density, gcc</th>\n",
       "      <th>Resistivity, ohm-m</th>\n",
       "      <th>Water Saturation, fraction</th>\n",
       "      <th>PhiH, ft</th>\n",
       "      <th>TOC, fraction</th>\n",
       "      <th>TVD, ft</th>\n",
       "    </tr>\n",
       "  </thead>\n",
       "  <tbody>\n",
       "    <tr>\n",
       "      <th>0</th>\n",
       "      <td>118</td>\n",
       "      <td>2.2096</td>\n",
       "      <td>23</td>\n",
       "      <td>0.13</td>\n",
       "      <td>23</td>\n",
       "      <td>0.077</td>\n",
       "      <td>10670</td>\n",
       "    </tr>\n",
       "    <tr>\n",
       "      <th>1</th>\n",
       "      <td>170</td>\n",
       "      <td>2.2185</td>\n",
       "      <td>21</td>\n",
       "      <td>0.17</td>\n",
       "      <td>20</td>\n",
       "      <td>0.073</td>\n",
       "      <td>9932</td>\n",
       "    </tr>\n",
       "    <tr>\n",
       "      <th>2</th>\n",
       "      <td>166</td>\n",
       "      <td>2.2260</td>\n",
       "      <td>14</td>\n",
       "      <td>0.20</td>\n",
       "      <td>21</td>\n",
       "      <td>0.070</td>\n",
       "      <td>9747</td>\n",
       "    </tr>\n",
       "    <tr>\n",
       "      <th>3</th>\n",
       "      <td>166</td>\n",
       "      <td>2.2260</td>\n",
       "      <td>14</td>\n",
       "      <td>0.20</td>\n",
       "      <td>21</td>\n",
       "      <td>0.070</td>\n",
       "      <td>9747</td>\n",
       "    </tr>\n",
       "    <tr>\n",
       "      <th>4</th>\n",
       "      <td>135</td>\n",
       "      <td>2.2303</td>\n",
       "      <td>22</td>\n",
       "      <td>0.16</td>\n",
       "      <td>24</td>\n",
       "      <td>0.068</td>\n",
       "      <td>9222</td>\n",
       "    </tr>\n",
       "  </tbody>\n",
       "</table>\n",
       "</div>"
      ],
      "text/plain": [
       "   GR_API  Bulk Density, gcc  Resistivity, ohm-m  Water Saturation, fraction  \\\n",
       "0     118             2.2096                  23                        0.13   \n",
       "1     170             2.2185                  21                        0.17   \n",
       "2     166             2.2260                  14                        0.20   \n",
       "3     166             2.2260                  14                        0.20   \n",
       "4     135             2.2303                  22                        0.16   \n",
       "\n",
       "   PhiH, ft  TOC, fraction  TVD, ft  \n",
       "0        23          0.077    10670  \n",
       "1        20          0.073     9932  \n",
       "2        21          0.070     9747  \n",
       "3        21          0.070     9747  \n",
       "4        24          0.068     9222  "
      ]
     },
     "execution_count": 2,
     "metadata": {},
     "output_type": "execute_result"
    }
   ],
   "source": [
    "df = pd.read_excel('Chapter4_Geologic_DataSet.xlsx')\n",
    "df.head()"
   ]
  },
  {
   "cell_type": "code",
   "execution_count": 3,
   "metadata": {},
   "outputs": [
    {
     "data": {
      "text/plain": [
       "<matplotlib.axes._subplots.AxesSubplot at 0x12a095f67c8>"
      ]
     },
     "execution_count": 3,
     "metadata": {},
     "output_type": "execute_result"
    },
    {
     "data": {
      "image/png": "[encoded data removed]",
      "text/plain": [
       "<Figure size 432x288 with 1 Axes>"
      ]
     },
     "metadata": {
      "needs_background": "light"
     },
     "output_type": "display_data"
    }
   ],
   "source": [
    "sns.distplot(df['GR_API'],label='Clustering Data',norm_hist=True, color='g')"
   ]
  },
  {
   "cell_type": "code",
   "execution_count": 4,
   "metadata": {},
   "outputs": [
    {
     "data": {
      "text/plain": [
       "<matplotlib.axes._subplots.AxesSubplot at 0x12a095aaa48>"
      ]
     },
     "execution_count": 4,
     "metadata": {},
     "output_type": "execute_result"
    },
    {
     "data": {
      "image/png": "[encoded data removed]",
      "text/plain": [
       "<Figure size 432x288 with 1 Axes>"
      ]
     },
     "metadata": {
      "needs_background": "light"
     },
     "output_type": "display_data"
    }
   ],
   "source": [
    "sns.distplot(df['Bulk Density, gcc'],label='Clustering Data',norm_hist=True, color='g')"
   ]
  },
  {
   "cell_type": "code",
   "execution_count": 5,
   "metadata": {},
   "outputs": [
    {
     "data": {
      "text/plain": [
       "<matplotlib.axes._subplots.AxesSubplot at 0x12a09e3a608>"
      ]
     },
     "execution_count": 5,
     "metadata": {},
     "output_type": "execute_result"
    },
    {
     "data": {
      "image/png": "[encoded data removed]",
      "text/plain": [
       "<Figure size 432x288 with 1 Axes>"
      ]
     },
     "metadata": {
      "needs_background": "light"
     },
     "output_type": "display_data"
    }
   ],
   "source": [
    "sns.distplot(df['Resistivity, ohm-m'],label='Clustering Data',norm_hist=True, color='g')"
   ]
  },
  {
   "cell_type": "code",
   "execution_count": 6,
   "metadata": {},
   "outputs": [
    {
     "data": {
      "text/plain": [
       "<matplotlib.axes._subplots.AxesSubplot at 0x12a09ed0f88>"
      ]
     },
     "execution_count": 6,
     "metadata": {},
     "output_type": "execute_result"
    },
    {
     "data": {
      "image/png": "[encoded data removed]",
      "text/plain": [
       "<Figure size 432x288 with 1 Axes>"
      ]
     },
     "metadata": {
      "needs_background": "light"
     },
     "output_type": "display_data"
    }
   ],
   "source": [
    "sns.distplot(df['Water Saturation, fraction'],label='Clustering Data',norm_hist=True, color='g')"
   ]
  },
  {
   "cell_type": "code",
   "execution_count": 7,
   "metadata": {},
   "outputs": [
    {
     "data": {
      "text/plain": [
       "<matplotlib.axes._subplots.AxesSubplot at 0x12a09f7ed88>"
      ]
     },
     "execution_count": 7,
     "metadata": {},
     "output_type": "execute_result"
    },
    {
     "data": {
      "image/png": "[encoded data removed]",
      "text/plain": [
       "<Figure size 432x288 with 1 Axes>"
      ]
     },
     "metadata": {
      "needs_background": "light"
     },
     "output_type": "display_data"
    }
   ],
   "source": [
    "sns.distplot(df['PhiH, ft'],label='Clustering Data',norm_hist=True, color='g')"
   ]
  },
  {
   "cell_type": "code",
   "execution_count": 8,
   "metadata": {},
   "outputs": [
    {
     "data": {
      "text/plain": [
       "<matplotlib.axes._subplots.AxesSubplot at 0x12a09e3ac08>"
      ]
     },
     "execution_count": 8,
     "metadata": {},
     "output_type": "execute_result"
    },
    {
     "data": {
      "image/png": "[encoded data removed]",
      "text/plain": [
       "<Figure size 432x288 with 1 Axes>"
      ]
     },
     "metadata": {
      "needs_background": "light"
     },
     "output_type": "display_data"
    }
   ],
   "source": [
    "sns.distplot(df['TOC, fraction'],label='Clustering Data',norm_hist=True, color='g')"
   ]
  },
  {
   "cell_type": "code",
   "execution_count": 9,
   "metadata": {},
   "outputs": [
    {
     "data": {
      "text/plain": [
       "<matplotlib.axes._subplots.AxesSubplot at 0x12a095e5b88>"
      ]
     },
     "execution_count": 9,
     "metadata": {},
     "output_type": "execute_result"
    },
    {
     "data": {
      "image/png": "[encoded data removed]",
      "text/plain": [
       "<Figure size 432x288 with 1 Axes>"
      ]
     },
     "metadata": {
      "needs_background": "light"
     },
     "output_type": "display_data"
    }
   ],
   "source": [
    "sns.distplot(df['TVD, ft'],label='Clustering Data',norm_hist=True, color='g')"
   ]
  },
  {
   "cell_type": "code",
   "execution_count": 10,
   "metadata": {},
   "outputs": [
    {
     "data": {
      "text/plain": [
       "<matplotlib.axes._subplots.AxesSubplot at 0x12a07b90ec8>"
      ]
     },
     "execution_count": 10,
     "metadata": {},
     "output_type": "execute_result"
    },
    {
     "data": {
      "image/png": "[encoded data removed]",
      "text/plain": [
       "<Figure size 1080x576 with 2 Axes>"
      ]
     },
     "metadata": {
      "needs_background": "light"
     },
     "output_type": "display_data"
    }
   ],
   "source": [
    "fig=plt.figure(figsize=(15,8))\n",
    "sns.heatmap(df.corr(), cmap='coolwarm', annot=True, linewidths=4, linecolor='black')"
   ]
  },
  {
   "cell_type": "code",
   "execution_count": 11,
   "metadata": {},
   "outputs": [],
   "source": [
    "df.drop(['TOC, fraction'], axis=1, inplace=True)"
   ]
  },
  {
   "cell_type": "code",
   "execution_count": 12,
   "metadata": {},
   "outputs": [
    {
     "data": {
      "text/html": [
       "<div>\n",
       "<style scoped>\n",
       "    .dataframe tbody tr th:only-of-type {\n",
       "        vertical-align: middle;\n",
       "    }\n",
       "\n",
       "    .dataframe tbody tr th {\n",
       "        vertical-align: top;\n",
       "    }\n",
       "\n",
       "    .dataframe thead th {\n",
       "        text-align: right;\n",
       "    }\n",
       "</style>\n",
       "<table border=\"1\" class=\"dataframe\">\n",
       "  <thead>\n",
       "    <tr style=\"text-align: right;\">\n",
       "      <th></th>\n",
       "      <th>GR_API</th>\n",
       "      <th>Bulk Density, gcc</th>\n",
       "      <th>Resistivity, ohm-m</th>\n",
       "      <th>Water Saturation, fraction</th>\n",
       "      <th>PhiH, ft</th>\n",
       "      <th>TVD, ft</th>\n",
       "    </tr>\n",
       "  </thead>\n",
       "  <tbody>\n",
       "    <tr>\n",
       "      <th>0</th>\n",
       "      <td>118</td>\n",
       "      <td>2.2096</td>\n",
       "      <td>23</td>\n",
       "      <td>0.13</td>\n",
       "      <td>23</td>\n",
       "      <td>10670</td>\n",
       "    </tr>\n",
       "    <tr>\n",
       "      <th>1</th>\n",
       "      <td>170</td>\n",
       "      <td>2.2185</td>\n",
       "      <td>21</td>\n",
       "      <td>0.17</td>\n",
       "      <td>20</td>\n",
       "      <td>9932</td>\n",
       "    </tr>\n",
       "    <tr>\n",
       "      <th>2</th>\n",
       "      <td>166</td>\n",
       "      <td>2.2260</td>\n",
       "      <td>14</td>\n",
       "      <td>0.20</td>\n",
       "      <td>21</td>\n",
       "      <td>9747</td>\n",
       "    </tr>\n",
       "    <tr>\n",
       "      <th>3</th>\n",
       "      <td>166</td>\n",
       "      <td>2.2260</td>\n",
       "      <td>14</td>\n",
       "      <td>0.20</td>\n",
       "      <td>21</td>\n",
       "      <td>9747</td>\n",
       "    </tr>\n",
       "    <tr>\n",
       "      <th>4</th>\n",
       "      <td>135</td>\n",
       "      <td>2.2303</td>\n",
       "      <td>22</td>\n",
       "      <td>0.16</td>\n",
       "      <td>24</td>\n",
       "      <td>9222</td>\n",
       "    </tr>\n",
       "    <tr>\n",
       "      <th>...</th>\n",
       "      <td>...</td>\n",
       "      <td>...</td>\n",
       "      <td>...</td>\n",
       "      <td>...</td>\n",
       "      <td>...</td>\n",
       "      <td>...</td>\n",
       "    </tr>\n",
       "    <tr>\n",
       "      <th>433</th>\n",
       "      <td>123</td>\n",
       "      <td>2.2307</td>\n",
       "      <td>24</td>\n",
       "      <td>0.14</td>\n",
       "      <td>22</td>\n",
       "      <td>9605</td>\n",
       "    </tr>\n",
       "    <tr>\n",
       "      <th>434</th>\n",
       "      <td>141</td>\n",
       "      <td>2.2598</td>\n",
       "      <td>20</td>\n",
       "      <td>0.20</td>\n",
       "      <td>19</td>\n",
       "      <td>10086</td>\n",
       "    </tr>\n",
       "    <tr>\n",
       "      <th>435</th>\n",
       "      <td>157</td>\n",
       "      <td>2.2616</td>\n",
       "      <td>20</td>\n",
       "      <td>0.17</td>\n",
       "      <td>18</td>\n",
       "      <td>9008</td>\n",
       "    </tr>\n",
       "    <tr>\n",
       "      <th>436</th>\n",
       "      <td>142</td>\n",
       "      <td>2.2523</td>\n",
       "      <td>14</td>\n",
       "      <td>0.21</td>\n",
       "      <td>22</td>\n",
       "      <td>10397</td>\n",
       "    </tr>\n",
       "    <tr>\n",
       "      <th>437</th>\n",
       "      <td>148</td>\n",
       "      <td>2.2331</td>\n",
       "      <td>19</td>\n",
       "      <td>0.17</td>\n",
       "      <td>24</td>\n",
       "      <td>9390</td>\n",
       "    </tr>\n",
       "  </tbody>\n",
       "</table>\n",
       "<p>438 rows × 6 columns</p>\n",
       "</div>"
      ],
      "text/plain": [
       "     GR_API  Bulk Density, gcc  Resistivity, ohm-m  \\\n",
       "0       118             2.2096                  23   \n",
       "1       170             2.2185                  21   \n",
       "2       166             2.2260                  14   \n",
       "3       166             2.2260                  14   \n",
       "4       135             2.2303                  22   \n",
       "..      ...                ...                 ...   \n",
       "433     123             2.2307                  24   \n",
       "434     141             2.2598                  20   \n",
       "435     157             2.2616                  20   \n",
       "436     142             2.2523                  14   \n",
       "437     148             2.2331                  19   \n",
       "\n",
       "     Water Saturation, fraction  PhiH, ft  TVD, ft  \n",
       "0                          0.13        23    10670  \n",
       "1                          0.17        20     9932  \n",
       "2                          0.20        21     9747  \n",
       "3                          0.20        21     9747  \n",
       "4                          0.16        24     9222  \n",
       "..                          ...       ...      ...  \n",
       "433                        0.14        22     9605  \n",
       "434                        0.20        19    10086  \n",
       "435                        0.17        18     9008  \n",
       "436                        0.21        22    10397  \n",
       "437                        0.17        24     9390  \n",
       "\n",
       "[438 rows x 6 columns]"
      ]
     },
     "execution_count": 12,
     "metadata": {},
     "output_type": "execute_result"
    }
   ],
   "source": [
    "df"
   ]
  },
  {
   "cell_type": "code",
   "execution_count": 13,
   "metadata": {},
   "outputs": [
    {
     "data": {
      "text/plain": [
       "array([[-1.31654221, -1.63691997,  0.07053355, -0.79799783,  0.85324677,\n",
       "         0.88856422],\n",
       "       [ 0.39613573, -1.19092098, -0.18063471,  0.27088   , -0.08890975,\n",
       "        -0.00377924],\n",
       "       [ 0.26439127, -0.81507913, -1.05972362,  1.07253837,  0.22514243,\n",
       "        -0.22746968],\n",
       "       ...,\n",
       "       [-0.03203375,  0.96891686, -0.30621884,  0.27088   , -0.7170141 ,\n",
       "        -1.12102229],\n",
       "       [-0.52607547,  0.50287296, -1.05972362,  1.33975783,  0.5391946 ,\n",
       "         0.55846969],\n",
       "       [-0.32845878, -0.45928217, -0.43180297,  0.27088   ,  1.16729895,\n",
       "        -0.65913177]])"
      ]
     },
     "execution_count": 13,
     "metadata": {},
     "output_type": "execute_result"
    }
   ],
   "source": [
    "from sklearn.preprocessing import StandardScaler\n",
    "scaler=StandardScaler()\n",
    "df_scaled=scaler.fit(df)\n",
    "df_scaled=scaler.transform(df)\n",
    "df_scaled"
   ]
  },
  {
   "cell_type": "code",
   "execution_count": 14,
   "metadata": {},
   "outputs": [
    {
     "data": {
      "text/plain": [
       "Text(0.5, 1.0, 'The Elbow Method showing the optimal k')"
      ]
     },
     "execution_count": 14,
     "metadata": {},
     "output_type": "execute_result"
    },
    {
     "data": {
      "image/png": "[encoded data removed]",
      "text/plain": [
       "<Figure size 432x288 with 1 Axes>"
      ]
     },
     "metadata": {
      "needs_background": "light"
     },
     "output_type": "display_data"
    }
   ],
   "source": [
    "import matplotlib.pyplot as plt\n",
    "distortions=[]\n",
    "for i in range (1,21):\n",
    "    km=KMeans(n_clusters=i,random_state=1000,init='k-means++', n_init=1000, max_iter=500)\n",
    "    km.fit(df_scaled)\n",
    "    distortions.append(km.inertia_)\n",
    "plt.plot(range(1,21),distortions, marker='o')\n",
    "plt.xlabel('Number of Clusters')\n",
    "plt.ylabel('Distortion (Within Cluster Sum of Squared Errors)')\n",
    "plt.title('The Elbow Method showing the optimal k')"
   ]
  },
  {
   "cell_type": "code",
   "execution_count": 15,
   "metadata": {},
   "outputs": [
    {
     "name": "stdout",
     "output_type": "stream",
     "text": [
      "[[-0.81376234 -0.84668052  0.35502005 -0.76527708  0.34691776 -0.3705674 ]\n",
      " [-0.63019609  1.182783   -0.5776426   0.96478859 -0.16489011 -0.19384786]\n",
      " [-0.11678936 -0.20043572 -0.82697437  0.63429846  0.19583089 -0.31751012]\n",
      " [-0.93899675 -0.870945   -0.27133436 -0.74851275 -0.01330459  1.5069037 ]\n",
      " [ 1.49714297  1.42135886  2.61809734 -0.89343335 -2.06295198 -0.64341298]\n",
      " [ 0.93027358  1.88836765 -0.92867931  2.10656149  0.29341464 -0.76343302]\n",
      " [ 0.93004747 -0.96638294  0.37457934 -0.77924559  0.21963274  0.61264753]\n",
      " [ 1.82650412 -0.05790694  0.36356319 -0.61985153 -1.55448656  0.7942515 ]\n",
      " [ 0.29438666  0.14662858  1.25909764 -0.59758324 -0.67775757 -0.76365738]\n",
      " [-0.43702597  0.55465562 -0.72948387  0.94387715  2.20250797 -0.35747435]]\n"
     ]
    }
   ],
   "source": [
    "n=10\n",
    "# Initializing KMeans\n",
    "kmeans = KMeans(n_clusters=n,random_state=1000,init='k-means++', n_init=1000, max_iter=500)\n",
    "# Fitting with inputs\n",
    "kmeans = kmeans.fit(df_scaled)\n",
    "\n",
    "# print location of clusters learned by kmeans object\n",
    "print(kmeans.cluster_centers_)\n",
    "\n"
   ]
  },
  {
   "cell_type": "code",
   "execution_count": 16,
   "metadata": {},
   "outputs": [
    {
     "data": {
      "text/plain": [
       "array([3, 2, 2, 2, 0, 9, 4, 0, 6, 6, 1, 9, 1, 1, 6, 8, 3, 1, 3, 8, 8, 0,\n",
       "       3, 7, 8, 2, 9, 2, 3, 2, 5, 1, 6, 1, 2, 5, 8, 6, 0, 9, 9, 1, 1, 2,\n",
       "       8, 9, 7, 8, 3, 1, 8, 8, 0, 0, 0, 6, 3, 0, 6, 1, 2, 0, 3, 9, 2, 6,\n",
       "       3, 4, 4, 6, 2, 2, 3, 0, 7, 4, 3, 1, 5, 8, 9, 2, 6, 6, 6, 3, 9, 1,\n",
       "       8, 0, 8, 4, 3, 6, 6, 1, 1, 1, 1, 1, 9, 6, 6, 0, 2, 9, 0, 0, 5, 9,\n",
       "       9, 7, 0, 0, 0, 8, 3, 7, 6, 8, 9, 1, 2, 6, 2, 8, 2, 8, 8, 6, 0, 8,\n",
       "       9, 2, 8, 0, 1, 8, 3, 7, 3, 7, 5, 0, 2, 2, 3, 8, 9, 0, 1, 3, 1, 9,\n",
       "       7, 0, 8, 3, 2, 8, 5, 6, 3, 8, 4, 2, 5, 9, 3, 8, 0, 2, 8, 1, 1, 2,\n",
       "       3, 0, 3, 6, 3, 0, 5, 8, 1, 9, 9, 1, 2, 2, 1, 2, 3, 0, 2, 5, 5, 7,\n",
       "       3, 4, 3, 4, 0, 6, 8, 8, 3, 3, 6, 3, 8, 8, 5, 0, 1, 2, 2, 1, 2, 7,\n",
       "       1, 1, 1, 1, 9, 8, 8, 4, 5, 5, 5, 0, 6, 6, 3, 6, 2, 3, 2, 2, 8, 6,\n",
       "       8, 4, 8, 5, 2, 2, 1, 2, 3, 7, 4, 8, 6, 6, 1, 2, 2, 1, 2, 2, 2, 2,\n",
       "       1, 1, 6, 0, 6, 0, 8, 2, 2, 1, 2, 9, 3, 7, 0, 3, 2, 3, 2, 5, 8, 1,\n",
       "       1, 9, 5, 9, 3, 3, 8, 7, 0, 6, 2, 2, 8, 8, 8, 2, 5, 6, 6, 6, 3, 0,\n",
       "       3, 1, 2, 2, 4, 0, 6, 7, 2, 3, 1, 2, 1, 6, 3, 3, 3, 6, 6, 7, 6, 2,\n",
       "       2, 9, 9, 8, 1, 0, 6, 3, 8, 7, 6, 8, 0, 3, 6, 0, 2, 2, 1, 1, 2, 1,\n",
       "       1, 6, 3, 6, 3, 6, 6, 2, 2, 2, 0, 3, 6, 6, 6, 8, 8, 6, 6, 3, 7, 2,\n",
       "       2, 1, 1, 2, 2, 2, 4, 1, 1, 2, 9, 2, 0, 3, 6, 5, 1, 5, 0, 8, 8, 0,\n",
       "       6, 1, 5, 5, 0, 1, 1, 1, 2, 7, 6, 7, 6, 6, 3, 8, 1, 4, 8, 8, 8, 0,\n",
       "       8, 0, 7, 2, 5, 0, 0, 3, 1, 8, 0, 7, 3, 2, 2, 0, 1, 1, 1, 2])"
      ]
     },
     "execution_count": 16,
     "metadata": {},
     "output_type": "execute_result"
    }
   ],
   "source": [
    "labels=kmeans.labels_\n",
    "labels"
   ]
  },
  {
   "cell_type": "code",
   "execution_count": 17,
   "metadata": {},
   "outputs": [],
   "source": [
    "df_scaled= pd.DataFrame(df_scaled,columns=df.columns[0:6])\n",
    "df_scaled['Clusters']=labels"
   ]
  },
  {
   "cell_type": "code",
   "execution_count": 18,
   "metadata": {},
   "outputs": [
    {
     "data": {
      "text/html": [
       "<div>\n",
       "<style scoped>\n",
       "    .dataframe tbody tr th:only-of-type {\n",
       "        vertical-align: middle;\n",
       "    }\n",
       "\n",
       "    .dataframe tbody tr th {\n",
       "        vertical-align: top;\n",
       "    }\n",
       "\n",
       "    .dataframe thead th {\n",
       "        text-align: right;\n",
       "    }\n",
       "</style>\n",
       "<table border=\"1\" class=\"dataframe\">\n",
       "  <thead>\n",
       "    <tr style=\"text-align: right;\">\n",
       "      <th></th>\n",
       "      <th>GR_API</th>\n",
       "      <th>Bulk Density, gcc</th>\n",
       "      <th>Resistivity, ohm-m</th>\n",
       "      <th>Water Saturation, fraction</th>\n",
       "      <th>PhiH, ft</th>\n",
       "      <th>TVD, ft</th>\n",
       "      <th>Clusters</th>\n",
       "    </tr>\n",
       "  </thead>\n",
       "  <tbody>\n",
       "    <tr>\n",
       "      <th>0</th>\n",
       "      <td>-1.316542</td>\n",
       "      <td>-1.636920</td>\n",
       "      <td>0.070534</td>\n",
       "      <td>-0.797998</td>\n",
       "      <td>0.853247</td>\n",
       "      <td>0.888564</td>\n",
       "      <td>3</td>\n",
       "    </tr>\n",
       "    <tr>\n",
       "      <th>1</th>\n",
       "      <td>0.396136</td>\n",
       "      <td>-1.190921</td>\n",
       "      <td>-0.180635</td>\n",
       "      <td>0.270880</td>\n",
       "      <td>-0.088910</td>\n",
       "      <td>-0.003779</td>\n",
       "      <td>2</td>\n",
       "    </tr>\n",
       "    <tr>\n",
       "      <th>2</th>\n",
       "      <td>0.264391</td>\n",
       "      <td>-0.815079</td>\n",
       "      <td>-1.059724</td>\n",
       "      <td>1.072538</td>\n",
       "      <td>0.225142</td>\n",
       "      <td>-0.227470</td>\n",
       "      <td>2</td>\n",
       "    </tr>\n",
       "    <tr>\n",
       "      <th>3</th>\n",
       "      <td>0.264391</td>\n",
       "      <td>-0.815079</td>\n",
       "      <td>-1.059724</td>\n",
       "      <td>1.072538</td>\n",
       "      <td>0.225142</td>\n",
       "      <td>-0.227470</td>\n",
       "      <td>2</td>\n",
       "    </tr>\n",
       "    <tr>\n",
       "      <th>4</th>\n",
       "      <td>-0.756628</td>\n",
       "      <td>-0.599596</td>\n",
       "      <td>-0.055051</td>\n",
       "      <td>0.003661</td>\n",
       "      <td>1.167299</td>\n",
       "      <td>-0.862267</td>\n",
       "      <td>0</td>\n",
       "    </tr>\n",
       "    <tr>\n",
       "      <th>...</th>\n",
       "      <td>...</td>\n",
       "      <td>...</td>\n",
       "      <td>...</td>\n",
       "      <td>...</td>\n",
       "      <td>...</td>\n",
       "      <td>...</td>\n",
       "      <td>...</td>\n",
       "    </tr>\n",
       "    <tr>\n",
       "      <th>433</th>\n",
       "      <td>-1.151862</td>\n",
       "      <td>-0.579552</td>\n",
       "      <td>0.196118</td>\n",
       "      <td>-0.530778</td>\n",
       "      <td>0.539195</td>\n",
       "      <td>-0.399167</td>\n",
       "      <td>0</td>\n",
       "    </tr>\n",
       "    <tr>\n",
       "      <th>434</th>\n",
       "      <td>-0.559012</td>\n",
       "      <td>0.878715</td>\n",
       "      <td>-0.306219</td>\n",
       "      <td>1.072538</td>\n",
       "      <td>-0.402962</td>\n",
       "      <td>0.182428</td>\n",
       "      <td>1</td>\n",
       "    </tr>\n",
       "    <tr>\n",
       "      <th>435</th>\n",
       "      <td>-0.032034</td>\n",
       "      <td>0.968917</td>\n",
       "      <td>-0.306219</td>\n",
       "      <td>0.270880</td>\n",
       "      <td>-0.717014</td>\n",
       "      <td>-1.121022</td>\n",
       "      <td>1</td>\n",
       "    </tr>\n",
       "    <tr>\n",
       "      <th>436</th>\n",
       "      <td>-0.526075</td>\n",
       "      <td>0.502873</td>\n",
       "      <td>-1.059724</td>\n",
       "      <td>1.339758</td>\n",
       "      <td>0.539195</td>\n",
       "      <td>0.558470</td>\n",
       "      <td>1</td>\n",
       "    </tr>\n",
       "    <tr>\n",
       "      <th>437</th>\n",
       "      <td>-0.328459</td>\n",
       "      <td>-0.459282</td>\n",
       "      <td>-0.431803</td>\n",
       "      <td>0.270880</td>\n",
       "      <td>1.167299</td>\n",
       "      <td>-0.659132</td>\n",
       "      <td>2</td>\n",
       "    </tr>\n",
       "  </tbody>\n",
       "</table>\n",
       "<p>438 rows × 7 columns</p>\n",
       "</div>"
      ],
      "text/plain": [
       "       GR_API  Bulk Density, gcc  Resistivity, ohm-m  \\\n",
       "0   -1.316542          -1.636920            0.070534   \n",
       "1    0.396136          -1.190921           -0.180635   \n",
       "2    0.264391          -0.815079           -1.059724   \n",
       "3    0.264391          -0.815079           -1.059724   \n",
       "4   -0.756628          -0.599596           -0.055051   \n",
       "..        ...                ...                 ...   \n",
       "433 -1.151862          -0.579552            0.196118   \n",
       "434 -0.559012           0.878715           -0.306219   \n",
       "435 -0.032034           0.968917           -0.306219   \n",
       "436 -0.526075           0.502873           -1.059724   \n",
       "437 -0.328459          -0.459282           -0.431803   \n",
       "\n",
       "     Water Saturation, fraction  PhiH, ft   TVD, ft  Clusters  \n",
       "0                     -0.797998  0.853247  0.888564         3  \n",
       "1                      0.270880 -0.088910 -0.003779         2  \n",
       "2                      1.072538  0.225142 -0.227470         2  \n",
       "3                      1.072538  0.225142 -0.227470         2  \n",
       "4                      0.003661  1.167299 -0.862267         0  \n",
       "..                          ...       ...       ...       ...  \n",
       "433                   -0.530778  0.539195 -0.399167         0  \n",
       "434                    1.072538 -0.402962  0.182428         1  \n",
       "435                    0.270880 -0.717014 -1.121022         1  \n",
       "436                    1.339758  0.539195  0.558470         1  \n",
       "437                    0.270880  1.167299 -0.659132         2  \n",
       "\n",
       "[438 rows x 7 columns]"
      ]
     },
     "execution_count": 18,
     "metadata": {},
     "output_type": "execute_result"
    }
   ],
   "source": [
    "df_scaled"
   ]
  },
  {
   "cell_type": "code",
   "execution_count": 19,
   "metadata": {},
   "outputs": [
    {
     "data": {
      "text/plain": [
       "Text(0.5, 0, 'silhouette coefficient')"
      ]
     },
     "execution_count": 19,
     "metadata": {},
     "output_type": "execute_result"
    },
    {
     "data": {
      "image/png": "[encoded data removed]",
      "text/plain": [
       "<Figure size 432x288 with 1 Axes>"
      ]
     },
     "metadata": {
      "needs_background": "light"
     },
     "output_type": "display_data"
    }
   ],
   "source": [
    "import numpy as np\n",
    "from matplotlib import cm\n",
    "from sklearn.metrics import silhouette_samples\n",
    "cluster_labels=np.unique(labels)\n",
    "n_clusters=cluster_labels.shape[0]\n",
    "silhouette_vals=silhouette_samples(df_scaled,labels,metric='euclidean')\n",
    "y_ax_lower, y_ax_upper=0,0\n",
    "yticks=[]\n",
    "for i, c in enumerate (cluster_labels):\n",
    "    c_silhouette_vals= silhouette_vals[labels==c]\n",
    "    c_silhouette_vals.sort()\n",
    "    y_ax_upper += len(c_silhouette_vals)\n",
    "    color= cm.jet(float(i)/n_clusters)\n",
    "    plt.barh(range(y_ax_lower,y_ax_upper),c_silhouette_vals,height=1,edgecolor='none',color=color)\n",
    "    yticks.append((y_ax_lower+y_ax_upper)/2.)\n",
    "    y_ax_lower += len(c_silhouette_vals)\n",
    "silhouette_avg=np.mean(silhouette_vals)\n",
    "plt.axvline(silhouette_avg,color=\"red\",linestyle=\"--\")\n",
    "plt.yticks(yticks, cluster_labels +1)\n",
    "plt.ylabel('Cluster')\n",
    "plt.xlabel('silhouette coefficient')\n",
    "# plt.show()"
   ]
  },
  {
   "cell_type": "code",
   "execution_count": 20,
   "metadata": {},
   "outputs": [],
   "source": [
    "df_scaled['GR_API']=(df_scaled['GR_API']*(df['GR_API'].std())+df['GR_API'].mean())\n",
    "df_scaled['Bulk Density, gcc']=(df_scaled['Bulk Density, gcc']*(df['Bulk Density, gcc'].std())+df['Bulk Density, gcc'].mean())\n",
    "df_scaled['Resistivity, ohm-m']=(df_scaled['Resistivity, ohm-m']*(df['Resistivity, ohm-m'].std())+df['Resistivity, ohm-m'].mean())\n",
    "df_scaled['Water Saturation, fraction']=(df_scaled['Water Saturation, fraction']*(df['Water Saturation, fraction'].std())+df['Water Saturation, fraction'].mean())\n",
    "df_scaled['PhiH, ft']=(df_scaled['PhiH, ft']*(df['PhiH, ft'].std())+df['PhiH, ft'].mean())\n",
    "df_scaled['TVD, ft']=(df_scaled['TVD, ft']*(df['TVD, ft'].std())+df['TVD, ft'].mean())"
   ]
  },
  {
   "cell_type": "code",
   "execution_count": 21,
   "metadata": {},
   "outputs": [
    {
     "data": {
      "text/html": [
       "<div>\n",
       "<style scoped>\n",
       "    .dataframe tbody tr th:only-of-type {\n",
       "        vertical-align: middle;\n",
       "    }\n",
       "\n",
       "    .dataframe tbody tr th {\n",
       "        vertical-align: top;\n",
       "    }\n",
       "\n",
       "    .dataframe thead th {\n",
       "        text-align: right;\n",
       "    }\n",
       "</style>\n",
       "<table border=\"1\" class=\"dataframe\">\n",
       "  <thead>\n",
       "    <tr style=\"text-align: right;\">\n",
       "      <th></th>\n",
       "      <th>GR_API</th>\n",
       "      <th>Bulk Density, gcc</th>\n",
       "      <th>Resistivity, ohm-m</th>\n",
       "      <th>Water Saturation, fraction</th>\n",
       "      <th>PhiH, ft</th>\n",
       "      <th>TVD, ft</th>\n",
       "    </tr>\n",
       "    <tr>\n",
       "      <th>Clusters</th>\n",
       "      <th></th>\n",
       "      <th></th>\n",
       "      <th></th>\n",
       "      <th></th>\n",
       "      <th></th>\n",
       "      <th></th>\n",
       "    </tr>\n",
       "  </thead>\n",
       "  <tbody>\n",
       "    <tr>\n",
       "      <th>0</th>\n",
       "      <td>133.237053</td>\n",
       "      <td>2.225350</td>\n",
       "      <td>25.268539</td>\n",
       "      <td>0.131192</td>\n",
       "      <td>21.389018</td>\n",
       "      <td>9628.302607</td>\n",
       "    </tr>\n",
       "    <tr>\n",
       "      <th>1</th>\n",
       "      <td>138.816830</td>\n",
       "      <td>2.265895</td>\n",
       "      <td>17.833450</td>\n",
       "      <td>0.196009</td>\n",
       "      <td>19.757464</td>\n",
       "      <td>9774.623125</td>\n",
       "    </tr>\n",
       "    <tr>\n",
       "      <th>2</th>\n",
       "      <td>154.422612</td>\n",
       "      <td>2.238261</td>\n",
       "      <td>15.845803</td>\n",
       "      <td>0.183627</td>\n",
       "      <td>20.907380</td>\n",
       "      <td>9672.233056</td>\n",
       "    </tr>\n",
       "    <tr>\n",
       "      <th>3</th>\n",
       "      <td>129.430362</td>\n",
       "      <td>2.224865</td>\n",
       "      <td>20.275307</td>\n",
       "      <td>0.131820</td>\n",
       "      <td>20.240692</td>\n",
       "      <td>11182.814005</td>\n",
       "    </tr>\n",
       "    <tr>\n",
       "      <th>4</th>\n",
       "      <td>203.480551</td>\n",
       "      <td>2.270661</td>\n",
       "      <td>43.309553</td>\n",
       "      <td>0.126390</td>\n",
       "      <td>13.706774</td>\n",
       "      <td>9402.391509</td>\n",
       "    </tr>\n",
       "    <tr>\n",
       "      <th>5</th>\n",
       "      <td>186.249690</td>\n",
       "      <td>2.279991</td>\n",
       "      <td>15.035022</td>\n",
       "      <td>0.238786</td>\n",
       "      <td>21.218460</td>\n",
       "      <td>9303.017133</td>\n",
       "    </tr>\n",
       "    <tr>\n",
       "      <th>6</th>\n",
       "      <td>186.242817</td>\n",
       "      <td>2.222959</td>\n",
       "      <td>25.424463</td>\n",
       "      <td>0.130668</td>\n",
       "      <td>20.983256</td>\n",
       "      <td>10442.386413</td>\n",
       "    </tr>\n",
       "    <tr>\n",
       "      <th>7</th>\n",
       "      <td>213.491986</td>\n",
       "      <td>2.241108</td>\n",
       "      <td>25.336644</td>\n",
       "      <td>0.136640</td>\n",
       "      <td>15.327673</td>\n",
       "      <td>10592.751143</td>\n",
       "    </tr>\n",
       "    <tr>\n",
       "      <th>8</th>\n",
       "      <td>166.920935</td>\n",
       "      <td>2.245194</td>\n",
       "      <td>32.475750</td>\n",
       "      <td>0.137474</td>\n",
       "      <td>18.122532</td>\n",
       "      <td>9302.831362</td>\n",
       "    </tr>\n",
       "    <tr>\n",
       "      <th>9</th>\n",
       "      <td>144.688531</td>\n",
       "      <td>2.253346</td>\n",
       "      <td>16.622987</td>\n",
       "      <td>0.195226</td>\n",
       "      <td>27.304316</td>\n",
       "      <td>9639.143409</td>\n",
       "    </tr>\n",
       "  </tbody>\n",
       "</table>\n",
       "</div>"
      ],
      "text/plain": [
       "              GR_API  Bulk Density, gcc  Resistivity, ohm-m  \\\n",
       "Clusters                                                      \n",
       "0         133.237053           2.225350           25.268539   \n",
       "1         138.816830           2.265895           17.833450   \n",
       "2         154.422612           2.238261           15.845803   \n",
       "3         129.430362           2.224865           20.275307   \n",
       "4         203.480551           2.270661           43.309553   \n",
       "5         186.249690           2.279991           15.035022   \n",
       "6         186.242817           2.222959           25.424463   \n",
       "7         213.491986           2.241108           25.336644   \n",
       "8         166.920935           2.245194           32.475750   \n",
       "9         144.688531           2.253346           16.622987   \n",
       "\n",
       "          Water Saturation, fraction   PhiH, ft       TVD, ft  \n",
       "Clusters                                                       \n",
       "0                           0.131192  21.389018   9628.302607  \n",
       "1                           0.196009  19.757464   9774.623125  \n",
       "2                           0.183627  20.907380   9672.233056  \n",
       "3                           0.131820  20.240692  11182.814005  \n",
       "4                           0.126390  13.706774   9402.391509  \n",
       "5                           0.238786  21.218460   9303.017133  \n",
       "6                           0.130668  20.983256  10442.386413  \n",
       "7                           0.136640  15.327673  10592.751143  \n",
       "8                           0.137474  18.122532   9302.831362  \n",
       "9                           0.195226  27.304316   9639.143409  "
      ]
     },
     "execution_count": 21,
     "metadata": {},
     "output_type": "execute_result"
    }
   ],
   "source": [
    "Group_by=df_scaled.groupby(by='Clusters').mean()\n",
    "Group_by"
   ]
  },
  {
   "cell_type": "code",
   "execution_count": 22,
   "metadata": {},
   "outputs": [
    {
     "data": {
      "text/html": [
       "<div>\n",
       "<style scoped>\n",
       "    .dataframe tbody tr th:only-of-type {\n",
       "        vertical-align: middle;\n",
       "    }\n",
       "\n",
       "    .dataframe tbody tr th {\n",
       "        vertical-align: top;\n",
       "    }\n",
       "\n",
       "    .dataframe thead th {\n",
       "        text-align: right;\n",
       "    }\n",
       "</style>\n",
       "<table border=\"1\" class=\"dataframe\">\n",
       "  <thead>\n",
       "    <tr style=\"text-align: right;\">\n",
       "      <th></th>\n",
       "      <th>GR_API</th>\n",
       "      <th>Bulk Density, gcc</th>\n",
       "      <th>Resistivity, ohm-m</th>\n",
       "      <th>Water Saturation, fraction</th>\n",
       "      <th>PhiH, ft</th>\n",
       "      <th>TVD, ft</th>\n",
       "    </tr>\n",
       "    <tr>\n",
       "      <th>Clusters</th>\n",
       "      <th></th>\n",
       "      <th></th>\n",
       "      <th></th>\n",
       "      <th></th>\n",
       "      <th></th>\n",
       "      <th></th>\n",
       "    </tr>\n",
       "  </thead>\n",
       "  <tbody>\n",
       "    <tr>\n",
       "      <th>0</th>\n",
       "      <td>49</td>\n",
       "      <td>49</td>\n",
       "      <td>49</td>\n",
       "      <td>49</td>\n",
       "      <td>49</td>\n",
       "      <td>49</td>\n",
       "    </tr>\n",
       "    <tr>\n",
       "      <th>1</th>\n",
       "      <td>62</td>\n",
       "      <td>62</td>\n",
       "      <td>62</td>\n",
       "      <td>62</td>\n",
       "      <td>62</td>\n",
       "      <td>62</td>\n",
       "    </tr>\n",
       "    <tr>\n",
       "      <th>2</th>\n",
       "      <td>75</td>\n",
       "      <td>75</td>\n",
       "      <td>75</td>\n",
       "      <td>75</td>\n",
       "      <td>75</td>\n",
       "      <td>75</td>\n",
       "    </tr>\n",
       "    <tr>\n",
       "      <th>3</th>\n",
       "      <td>54</td>\n",
       "      <td>54</td>\n",
       "      <td>54</td>\n",
       "      <td>54</td>\n",
       "      <td>54</td>\n",
       "      <td>54</td>\n",
       "    </tr>\n",
       "    <tr>\n",
       "      <th>4</th>\n",
       "      <td>14</td>\n",
       "      <td>14</td>\n",
       "      <td>14</td>\n",
       "      <td>14</td>\n",
       "      <td>14</td>\n",
       "      <td>14</td>\n",
       "    </tr>\n",
       "    <tr>\n",
       "      <th>5</th>\n",
       "      <td>23</td>\n",
       "      <td>23</td>\n",
       "      <td>23</td>\n",
       "      <td>23</td>\n",
       "      <td>23</td>\n",
       "      <td>23</td>\n",
       "    </tr>\n",
       "    <tr>\n",
       "      <th>6</th>\n",
       "      <td>57</td>\n",
       "      <td>57</td>\n",
       "      <td>57</td>\n",
       "      <td>57</td>\n",
       "      <td>57</td>\n",
       "      <td>57</td>\n",
       "    </tr>\n",
       "    <tr>\n",
       "      <th>7</th>\n",
       "      <td>21</td>\n",
       "      <td>21</td>\n",
       "      <td>21</td>\n",
       "      <td>21</td>\n",
       "      <td>21</td>\n",
       "      <td>21</td>\n",
       "    </tr>\n",
       "    <tr>\n",
       "      <th>8</th>\n",
       "      <td>56</td>\n",
       "      <td>56</td>\n",
       "      <td>56</td>\n",
       "      <td>56</td>\n",
       "      <td>56</td>\n",
       "      <td>56</td>\n",
       "    </tr>\n",
       "    <tr>\n",
       "      <th>9</th>\n",
       "      <td>27</td>\n",
       "      <td>27</td>\n",
       "      <td>27</td>\n",
       "      <td>27</td>\n",
       "      <td>27</td>\n",
       "      <td>27</td>\n",
       "    </tr>\n",
       "  </tbody>\n",
       "</table>\n",
       "</div>"
      ],
      "text/plain": [
       "          GR_API  Bulk Density, gcc  Resistivity, ohm-m  \\\n",
       "Clusters                                                  \n",
       "0             49                 49                  49   \n",
       "1             62                 62                  62   \n",
       "2             75                 75                  75   \n",
       "3             54                 54                  54   \n",
       "4             14                 14                  14   \n",
       "5             23                 23                  23   \n",
       "6             57                 57                  57   \n",
       "7             21                 21                  21   \n",
       "8             56                 56                  56   \n",
       "9             27                 27                  27   \n",
       "\n",
       "          Water Saturation, fraction  PhiH, ft  TVD, ft  \n",
       "Clusters                                                 \n",
       "0                                 49        49       49  \n",
       "1                                 62        62       62  \n",
       "2                                 75        75       75  \n",
       "3                                 54        54       54  \n",
       "4                                 14        14       14  \n",
       "5                                 23        23       23  \n",
       "6                                 57        57       57  \n",
       "7                                 21        21       21  \n",
       "8                                 56        56       56  \n",
       "9                                 27        27       27  "
      ]
     },
     "execution_count": 22,
     "metadata": {},
     "output_type": "execute_result"
    }
   ],
   "source": [
    "df_scaled.groupby(by='Clusters').count()"
   ]
  },
  {
   "cell_type": "code",
   "execution_count": 23,
   "metadata": {},
   "outputs": [],
   "source": [
    "df_scaled.to_csv('KM.csv')"
   ]
  },
  {
   "cell_type": "code",
   "execution_count": null,
   "metadata": {},
   "outputs": [],
   "source": []
  }
 ],
 "metadata": {
  "kernelspec": {
   "display_name": "Python 3",
   "language": "python",
   "name": "python3"
  },
  "language_info": {
   "codemirror_mode": {
    "name": "ipython",
    "version": 3
   },
   "file_extension": ".py",
   "mimetype": "text/x-python",
   "name": "python",
   "nbconvert_exporter": "python",
   "pygments_lexer": "ipython3",
   "version": "3.7.6"
  }
 },
 "nbformat": 4,
 "nbformat_minor": 4
}
