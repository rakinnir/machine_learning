{
 "cells": [
  {
   "cell_type": "code",
   "execution_count": 1,
   "metadata": {},
   "outputs": [],
   "source": [
    "import numpy as np\n",
    "import pandas as pd\n",
    "import matplotlib.pyplot as plt\n",
    "from sklearn.preprocessing import MinMaxScaler\n",
    "%matplotlib inline"
   ]
  },
  {
   "cell_type": "code",
   "execution_count": 2,
   "metadata": {},
   "outputs": [],
   "source": [
    "data= pd.read_excel('Chapter6_Frac_Stage_Data.xlsx')"
   ]
  },
  {
   "cell_type": "code",
   "execution_count": 3,
   "metadata": {},
   "outputs": [
    {
     "data": {
      "text/html": [
       "<div>\n",
       "<style scoped>\n",
       "    .dataframe tbody tr th:only-of-type {\n",
       "        vertical-align: middle;\n",
       "    }\n",
       "\n",
       "    .dataframe tbody tr th {\n",
       "        vertical-align: top;\n",
       "    }\n",
       "\n",
       "    .dataframe thead th {\n",
       "        text-align: right;\n",
       "    }\n",
       "</style>\n",
       "<table border=\"1\" class=\"dataframe\">\n",
       "  <thead>\n",
       "    <tr style=\"text-align: right;\">\n",
       "      <th></th>\n",
       "      <th>Time</th>\n",
       "      <th>SLUR RATE</th>\n",
       "      <th>PROP CON</th>\n",
       "      <th>TR PRESS</th>\n",
       "    </tr>\n",
       "  </thead>\n",
       "  <tbody>\n",
       "    <tr>\n",
       "      <th>count</th>\n",
       "      <td>4600.000000</td>\n",
       "      <td>4600.000000</td>\n",
       "      <td>4600.000000</td>\n",
       "      <td>4600.000000</td>\n",
       "    </tr>\n",
       "    <tr>\n",
       "      <th>mean</th>\n",
       "      <td>2300.500000</td>\n",
       "      <td>97.079174</td>\n",
       "      <td>1.233283</td>\n",
       "      <td>9032.118696</td>\n",
       "    </tr>\n",
       "    <tr>\n",
       "      <th>std</th>\n",
       "      <td>1328.049949</td>\n",
       "      <td>7.149957</td>\n",
       "      <td>0.693707</td>\n",
       "      <td>127.579547</td>\n",
       "    </tr>\n",
       "    <tr>\n",
       "      <th>min</th>\n",
       "      <td>1.000000</td>\n",
       "      <td>48.700000</td>\n",
       "      <td>0.000000</td>\n",
       "      <td>8058.000000</td>\n",
       "    </tr>\n",
       "    <tr>\n",
       "      <th>25%</th>\n",
       "      <td>1150.750000</td>\n",
       "      <td>96.800000</td>\n",
       "      <td>0.700000</td>\n",
       "      <td>8940.000000</td>\n",
       "    </tr>\n",
       "    <tr>\n",
       "      <th>50%</th>\n",
       "      <td>2300.500000</td>\n",
       "      <td>99.600000</td>\n",
       "      <td>1.000000</td>\n",
       "      <td>9055.000000</td>\n",
       "    </tr>\n",
       "    <tr>\n",
       "      <th>75%</th>\n",
       "      <td>3450.250000</td>\n",
       "      <td>99.800000</td>\n",
       "      <td>1.800000</td>\n",
       "      <td>9141.000000</td>\n",
       "    </tr>\n",
       "    <tr>\n",
       "      <th>max</th>\n",
       "      <td>4600.000000</td>\n",
       "      <td>100.300000</td>\n",
       "      <td>2.500000</td>\n",
       "      <td>9268.000000</td>\n",
       "    </tr>\n",
       "  </tbody>\n",
       "</table>\n",
       "</div>"
      ],
      "text/plain": [
       "              Time    SLUR RATE     PROP CON     TR PRESS\n",
       "count  4600.000000  4600.000000  4600.000000  4600.000000\n",
       "mean   2300.500000    97.079174     1.233283  9032.118696\n",
       "std    1328.049949     7.149957     0.693707   127.579547\n",
       "min       1.000000    48.700000     0.000000  8058.000000\n",
       "25%    1150.750000    96.800000     0.700000  8940.000000\n",
       "50%    2300.500000    99.600000     1.000000  9055.000000\n",
       "75%    3450.250000    99.800000     1.800000  9141.000000\n",
       "max    4600.000000   100.300000     2.500000  9268.000000"
      ]
     },
     "execution_count": 3,
     "metadata": {},
     "output_type": "execute_result"
    }
   ],
   "source": [
    "data.describe()"
   ]
  },
  {
   "cell_type": "code",
   "execution_count": 4,
   "metadata": {},
   "outputs": [
    {
     "data": {
      "text/html": [
       "<div>\n",
       "<style scoped>\n",
       "    .dataframe tbody tr th:only-of-type {\n",
       "        vertical-align: middle;\n",
       "    }\n",
       "\n",
       "    .dataframe tbody tr th {\n",
       "        vertical-align: top;\n",
       "    }\n",
       "\n",
       "    .dataframe thead th {\n",
       "        text-align: right;\n",
       "    }\n",
       "</style>\n",
       "<table border=\"1\" class=\"dataframe\">\n",
       "  <thead>\n",
       "    <tr style=\"text-align: right;\">\n",
       "      <th></th>\n",
       "      <th>Time</th>\n",
       "      <th>SLUR RATE</th>\n",
       "      <th>PROP CON</th>\n",
       "      <th>TR PRESS</th>\n",
       "    </tr>\n",
       "  </thead>\n",
       "  <tbody>\n",
       "    <tr>\n",
       "      <th>0</th>\n",
       "      <td>1</td>\n",
       "      <td>49.4</td>\n",
       "      <td>0.0</td>\n",
       "      <td>8560</td>\n",
       "    </tr>\n",
       "    <tr>\n",
       "      <th>1</th>\n",
       "      <td>2</td>\n",
       "      <td>50.1</td>\n",
       "      <td>0.0</td>\n",
       "      <td>8537</td>\n",
       "    </tr>\n",
       "    <tr>\n",
       "      <th>2</th>\n",
       "      <td>3</td>\n",
       "      <td>50.1</td>\n",
       "      <td>0.0</td>\n",
       "      <td>8534</td>\n",
       "    </tr>\n",
       "    <tr>\n",
       "      <th>3</th>\n",
       "      <td>4</td>\n",
       "      <td>49.3</td>\n",
       "      <td>0.0</td>\n",
       "      <td>8617</td>\n",
       "    </tr>\n",
       "    <tr>\n",
       "      <th>4</th>\n",
       "      <td>5</td>\n",
       "      <td>49.2</td>\n",
       "      <td>0.0</td>\n",
       "      <td>8646</td>\n",
       "    </tr>\n",
       "  </tbody>\n",
       "</table>\n",
       "</div>"
      ],
      "text/plain": [
       "   Time  SLUR RATE  PROP CON  TR PRESS\n",
       "0     1       49.4       0.0      8560\n",
       "1     2       50.1       0.0      8537\n",
       "2     3       50.1       0.0      8534\n",
       "3     4       49.3       0.0      8617\n",
       "4     5       49.2       0.0      8646"
      ]
     },
     "execution_count": 4,
     "metadata": {},
     "output_type": "execute_result"
    }
   ],
   "source": [
    "data.head()"
   ]
  },
  {
   "cell_type": "code",
   "execution_count": 5,
   "metadata": {},
   "outputs": [
    {
     "data": {
      "text/html": [
       "<div>\n",
       "<style scoped>\n",
       "    .dataframe tbody tr th:only-of-type {\n",
       "        vertical-align: middle;\n",
       "    }\n",
       "\n",
       "    .dataframe tbody tr th {\n",
       "        vertical-align: top;\n",
       "    }\n",
       "\n",
       "    .dataframe thead th {\n",
       "        text-align: right;\n",
       "    }\n",
       "</style>\n",
       "<table border=\"1\" class=\"dataframe\">\n",
       "  <thead>\n",
       "    <tr style=\"text-align: right;\">\n",
       "      <th></th>\n",
       "      <th>Time</th>\n",
       "      <th>SLUR RATE</th>\n",
       "      <th>PROP CON</th>\n",
       "      <th>TR PRESS</th>\n",
       "    </tr>\n",
       "  </thead>\n",
       "  <tbody>\n",
       "    <tr>\n",
       "      <th>4595</th>\n",
       "      <td>4596</td>\n",
       "      <td>99.1</td>\n",
       "      <td>1.0</td>\n",
       "      <td>9194</td>\n",
       "    </tr>\n",
       "    <tr>\n",
       "      <th>4596</th>\n",
       "      <td>4597</td>\n",
       "      <td>99.0</td>\n",
       "      <td>1.0</td>\n",
       "      <td>9201</td>\n",
       "    </tr>\n",
       "    <tr>\n",
       "      <th>4597</th>\n",
       "      <td>4598</td>\n",
       "      <td>99.0</td>\n",
       "      <td>1.0</td>\n",
       "      <td>9184</td>\n",
       "    </tr>\n",
       "    <tr>\n",
       "      <th>4598</th>\n",
       "      <td>4599</td>\n",
       "      <td>99.3</td>\n",
       "      <td>1.0</td>\n",
       "      <td>9178</td>\n",
       "    </tr>\n",
       "    <tr>\n",
       "      <th>4599</th>\n",
       "      <td>4600</td>\n",
       "      <td>99.0</td>\n",
       "      <td>1.0</td>\n",
       "      <td>9188</td>\n",
       "    </tr>\n",
       "  </tbody>\n",
       "</table>\n",
       "</div>"
      ],
      "text/plain": [
       "      Time  SLUR RATE  PROP CON  TR PRESS\n",
       "4595  4596       99.1       1.0      9194\n",
       "4596  4597       99.0       1.0      9201\n",
       "4597  4598       99.0       1.0      9184\n",
       "4598  4599       99.3       1.0      9178\n",
       "4599  4600       99.0       1.0      9188"
      ]
     },
     "execution_count": 5,
     "metadata": {},
     "output_type": "execute_result"
    }
   ],
   "source": [
    "data.tail()"
   ]
  },
  {
   "cell_type": "code",
   "execution_count": 6,
   "metadata": {},
   "outputs": [
    {
     "data": {
      "text/plain": [
       "Text(0, 0.5, 'Slurry Rate (bpm))')"
      ]
     },
     "execution_count": 6,
     "metadata": {},
     "output_type": "execute_result"
    },
    {
     "data": {
      "image/png": "[encoded data removed]",
      "text/plain": [
       "<Figure size 1080x576 with 2 Axes>"
      ]
     },
     "metadata": {
      "needs_background": "light"
     },
     "output_type": "display_data"
    },
    {
     "data": {
      "text/plain": [
       "<Figure size 1080x576 with 0 Axes>"
      ]
     },
     "metadata": {},
     "output_type": "display_data"
    }
   ],
   "source": [
    "fig, ax1 = plt.subplots(figsize=(15,8))\n",
    "plt.figure(figsize=(15,8))\n",
    "ax2 = ax1.twinx()\n",
    "\n",
    "ax1.plot(data['Time'], data['TR PRESS'], 'b')\n",
    "ax2.plot(data['Time'], data['SLUR RATE'], 'g')\n",
    "\n",
    "\n",
    "ax1.set_xlabel('Time (seconds)')\n",
    "ax1.set_ylabel('Surface Treating Pressure (psi)', color='b')\n",
    "ax2.set_ylabel('Slurry Rate (bpm))', color='g')\n"
   ]
  },
  {
   "cell_type": "code",
   "execution_count": 7,
   "metadata": {},
   "outputs": [],
   "source": [
    "start_time = 1\n",
    "end_time = 4500"
   ]
  },
  {
   "cell_type": "code",
   "execution_count": 8,
   "metadata": {},
   "outputs": [],
   "source": [
    "filter = (data['Time'] > start_time) & (data['Time'] <= end_time)"
   ]
  },
  {
   "cell_type": "code",
   "execution_count": 9,
   "metadata": {},
   "outputs": [
    {
     "data": {
      "text/html": [
       "<div>\n",
       "<style scoped>\n",
       "    .dataframe tbody tr th:only-of-type {\n",
       "        vertical-align: middle;\n",
       "    }\n",
       "\n",
       "    .dataframe tbody tr th {\n",
       "        vertical-align: top;\n",
       "    }\n",
       "\n",
       "    .dataframe thead th {\n",
       "        text-align: right;\n",
       "    }\n",
       "</style>\n",
       "<table border=\"1\" class=\"dataframe\">\n",
       "  <thead>\n",
       "    <tr style=\"text-align: right;\">\n",
       "      <th></th>\n",
       "      <th>Time</th>\n",
       "      <th>SLUR RATE</th>\n",
       "      <th>PROP CON</th>\n",
       "      <th>TR PRESS</th>\n",
       "    </tr>\n",
       "  </thead>\n",
       "  <tbody>\n",
       "    <tr>\n",
       "      <th>4495</th>\n",
       "      <td>4496</td>\n",
       "      <td>98.7</td>\n",
       "      <td>1.0</td>\n",
       "      <td>9127</td>\n",
       "    </tr>\n",
       "    <tr>\n",
       "      <th>4496</th>\n",
       "      <td>4497</td>\n",
       "      <td>98.8</td>\n",
       "      <td>1.0</td>\n",
       "      <td>9125</td>\n",
       "    </tr>\n",
       "    <tr>\n",
       "      <th>4497</th>\n",
       "      <td>4498</td>\n",
       "      <td>98.5</td>\n",
       "      <td>1.0</td>\n",
       "      <td>9131</td>\n",
       "    </tr>\n",
       "    <tr>\n",
       "      <th>4498</th>\n",
       "      <td>4499</td>\n",
       "      <td>98.4</td>\n",
       "      <td>1.0</td>\n",
       "      <td>9136</td>\n",
       "    </tr>\n",
       "    <tr>\n",
       "      <th>4499</th>\n",
       "      <td>4500</td>\n",
       "      <td>98.6</td>\n",
       "      <td>1.0</td>\n",
       "      <td>9145</td>\n",
       "    </tr>\n",
       "  </tbody>\n",
       "</table>\n",
       "</div>"
      ],
      "text/plain": [
       "      Time  SLUR RATE  PROP CON  TR PRESS\n",
       "4495  4496       98.7       1.0      9127\n",
       "4496  4497       98.8       1.0      9125\n",
       "4497  4498       98.5       1.0      9131\n",
       "4498  4499       98.4       1.0      9136\n",
       "4499  4500       98.6       1.0      9145"
      ]
     },
     "execution_count": 9,
     "metadata": {},
     "output_type": "execute_result"
    }
   ],
   "source": [
    "data_training = data.loc[filter].copy()\n",
    "data_training.tail()"
   ]
  },
  {
   "cell_type": "code",
   "execution_count": 10,
   "metadata": {},
   "outputs": [],
   "source": [
    "start_time2 = 4500\n",
    "end_time2 = 4600"
   ]
  },
  {
   "cell_type": "code",
   "execution_count": 11,
   "metadata": {},
   "outputs": [],
   "source": [
    "filter2 = (data['Time'] > start_time2) & (data['Time'] <= end_time2)"
   ]
  },
  {
   "cell_type": "code",
   "execution_count": 12,
   "metadata": {},
   "outputs": [
    {
     "data": {
      "text/html": [
       "<div>\n",
       "<style scoped>\n",
       "    .dataframe tbody tr th:only-of-type {\n",
       "        vertical-align: middle;\n",
       "    }\n",
       "\n",
       "    .dataframe tbody tr th {\n",
       "        vertical-align: top;\n",
       "    }\n",
       "\n",
       "    .dataframe thead th {\n",
       "        text-align: right;\n",
       "    }\n",
       "</style>\n",
       "<table border=\"1\" class=\"dataframe\">\n",
       "  <thead>\n",
       "    <tr style=\"text-align: right;\">\n",
       "      <th></th>\n",
       "      <th>Time</th>\n",
       "      <th>SLUR RATE</th>\n",
       "      <th>PROP CON</th>\n",
       "      <th>TR PRESS</th>\n",
       "    </tr>\n",
       "  </thead>\n",
       "  <tbody>\n",
       "    <tr>\n",
       "      <th>4595</th>\n",
       "      <td>4596</td>\n",
       "      <td>99.1</td>\n",
       "      <td>1.0</td>\n",
       "      <td>9194</td>\n",
       "    </tr>\n",
       "    <tr>\n",
       "      <th>4596</th>\n",
       "      <td>4597</td>\n",
       "      <td>99.0</td>\n",
       "      <td>1.0</td>\n",
       "      <td>9201</td>\n",
       "    </tr>\n",
       "    <tr>\n",
       "      <th>4597</th>\n",
       "      <td>4598</td>\n",
       "      <td>99.0</td>\n",
       "      <td>1.0</td>\n",
       "      <td>9184</td>\n",
       "    </tr>\n",
       "    <tr>\n",
       "      <th>4598</th>\n",
       "      <td>4599</td>\n",
       "      <td>99.3</td>\n",
       "      <td>1.0</td>\n",
       "      <td>9178</td>\n",
       "    </tr>\n",
       "    <tr>\n",
       "      <th>4599</th>\n",
       "      <td>4600</td>\n",
       "      <td>99.0</td>\n",
       "      <td>1.0</td>\n",
       "      <td>9188</td>\n",
       "    </tr>\n",
       "  </tbody>\n",
       "</table>\n",
       "</div>"
      ],
      "text/plain": [
       "      Time  SLUR RATE  PROP CON  TR PRESS\n",
       "4595  4596       99.1       1.0      9194\n",
       "4596  4597       99.0       1.0      9201\n",
       "4597  4598       99.0       1.0      9184\n",
       "4598  4599       99.3       1.0      9178\n",
       "4599  4600       99.0       1.0      9188"
      ]
     },
     "execution_count": 12,
     "metadata": {},
     "output_type": "execute_result"
    }
   ],
   "source": [
    "data_testing = data.loc[filter2].copy()\n",
    "data_testing.tail()"
   ]
  },
  {
   "cell_type": "code",
   "execution_count": 13,
   "metadata": {},
   "outputs": [
    {
     "data": {
      "text/html": [
       "<div>\n",
       "<style scoped>\n",
       "    .dataframe tbody tr th:only-of-type {\n",
       "        vertical-align: middle;\n",
       "    }\n",
       "\n",
       "    .dataframe tbody tr th {\n",
       "        vertical-align: top;\n",
       "    }\n",
       "\n",
       "    .dataframe thead th {\n",
       "        text-align: right;\n",
       "    }\n",
       "</style>\n",
       "<table border=\"1\" class=\"dataframe\">\n",
       "  <thead>\n",
       "    <tr style=\"text-align: right;\">\n",
       "      <th></th>\n",
       "      <th>Time</th>\n",
       "      <th>SLUR RATE</th>\n",
       "      <th>PROP CON</th>\n",
       "      <th>TR PRESS</th>\n",
       "    </tr>\n",
       "  </thead>\n",
       "  <tbody>\n",
       "    <tr>\n",
       "      <th>4500</th>\n",
       "      <td>4501</td>\n",
       "      <td>98.4</td>\n",
       "      <td>1.0</td>\n",
       "      <td>9120</td>\n",
       "    </tr>\n",
       "    <tr>\n",
       "      <th>4501</th>\n",
       "      <td>4502</td>\n",
       "      <td>98.6</td>\n",
       "      <td>1.0</td>\n",
       "      <td>9133</td>\n",
       "    </tr>\n",
       "    <tr>\n",
       "      <th>4502</th>\n",
       "      <td>4503</td>\n",
       "      <td>98.7</td>\n",
       "      <td>1.0</td>\n",
       "      <td>9131</td>\n",
       "    </tr>\n",
       "    <tr>\n",
       "      <th>4503</th>\n",
       "      <td>4504</td>\n",
       "      <td>98.6</td>\n",
       "      <td>1.0</td>\n",
       "      <td>9125</td>\n",
       "    </tr>\n",
       "    <tr>\n",
       "      <th>4504</th>\n",
       "      <td>4505</td>\n",
       "      <td>98.6</td>\n",
       "      <td>1.0</td>\n",
       "      <td>9118</td>\n",
       "    </tr>\n",
       "  </tbody>\n",
       "</table>\n",
       "</div>"
      ],
      "text/plain": [
       "      Time  SLUR RATE  PROP CON  TR PRESS\n",
       "4500  4501       98.4       1.0      9120\n",
       "4501  4502       98.6       1.0      9133\n",
       "4502  4503       98.7       1.0      9131\n",
       "4503  4504       98.6       1.0      9125\n",
       "4504  4505       98.6       1.0      9118"
      ]
     },
     "execution_count": 13,
     "metadata": {},
     "output_type": "execute_result"
    }
   ],
   "source": [
    "data_testing.head()"
   ]
  },
  {
   "cell_type": "code",
   "execution_count": 14,
   "metadata": {},
   "outputs": [
    {
     "data": {
      "text/html": [
       "<div>\n",
       "<style scoped>\n",
       "    .dataframe tbody tr th:only-of-type {\n",
       "        vertical-align: middle;\n",
       "    }\n",
       "\n",
       "    .dataframe tbody tr th {\n",
       "        vertical-align: top;\n",
       "    }\n",
       "\n",
       "    .dataframe thead th {\n",
       "        text-align: right;\n",
       "    }\n",
       "</style>\n",
       "<table border=\"1\" class=\"dataframe\">\n",
       "  <thead>\n",
       "    <tr style=\"text-align: right;\">\n",
       "      <th></th>\n",
       "      <th>SLUR RATE</th>\n",
       "      <th>PROP CON</th>\n",
       "      <th>TR PRESS</th>\n",
       "    </tr>\n",
       "  </thead>\n",
       "  <tbody>\n",
       "    <tr>\n",
       "      <th>1</th>\n",
       "      <td>50.1</td>\n",
       "      <td>0.0</td>\n",
       "      <td>8537</td>\n",
       "    </tr>\n",
       "    <tr>\n",
       "      <th>2</th>\n",
       "      <td>50.1</td>\n",
       "      <td>0.0</td>\n",
       "      <td>8534</td>\n",
       "    </tr>\n",
       "    <tr>\n",
       "      <th>3</th>\n",
       "      <td>49.3</td>\n",
       "      <td>0.0</td>\n",
       "      <td>8617</td>\n",
       "    </tr>\n",
       "    <tr>\n",
       "      <th>4</th>\n",
       "      <td>49.2</td>\n",
       "      <td>0.0</td>\n",
       "      <td>8646</td>\n",
       "    </tr>\n",
       "    <tr>\n",
       "      <th>5</th>\n",
       "      <td>48.7</td>\n",
       "      <td>0.0</td>\n",
       "      <td>8667</td>\n",
       "    </tr>\n",
       "  </tbody>\n",
       "</table>\n",
       "</div>"
      ],
      "text/plain": [
       "   SLUR RATE  PROP CON  TR PRESS\n",
       "1       50.1       0.0      8537\n",
       "2       50.1       0.0      8534\n",
       "3       49.3       0.0      8617\n",
       "4       49.2       0.0      8646\n",
       "5       48.7       0.0      8667"
      ]
     },
     "execution_count": 14,
     "metadata": {},
     "output_type": "execute_result"
    }
   ],
   "source": [
    "training_data= data_training.drop(['Time'], axis=1)\n",
    "training_data.head()"
   ]
  },
  {
   "cell_type": "code",
   "execution_count": 15,
   "metadata": {},
   "outputs": [
    {
     "data": {
      "text/plain": [
       "array([[0.02713178, 0.        , 0.39586777],\n",
       "       [0.02713178, 0.        , 0.39338843],\n",
       "       [0.01162791, 0.        , 0.46198347],\n",
       "       ...,\n",
       "       [0.96511628, 0.4       , 0.88677686],\n",
       "       [0.96317829, 0.4       , 0.89090909],\n",
       "       [0.96705426, 0.4       , 0.89834711]])"
      ]
     },
     "execution_count": 15,
     "metadata": {},
     "output_type": "execute_result"
    }
   ],
   "source": [
    "scaler=MinMaxScaler()\n",
    "training_data= scaler.fit_transform(training_data)\n",
    "training_data"
   ]
  },
  {
   "cell_type": "code",
   "execution_count": 16,
   "metadata": {},
   "outputs": [],
   "source": [
    "X_train= []\n",
    "y_train= []"
   ]
  },
  {
   "cell_type": "code",
   "execution_count": 17,
   "metadata": {},
   "outputs": [],
   "source": [
    "for i in range(60,training_data.shape[0]):\n",
    "    X_train.append(training_data[i-60:i])\n",
    "    y_train.append(training_data[i,0])"
   ]
  },
  {
   "cell_type": "code",
   "execution_count": 18,
   "metadata": {},
   "outputs": [],
   "source": [
    "X_train, y_train = np.array(X_train), np.array(y_train)"
   ]
  },
  {
   "cell_type": "code",
   "execution_count": 19,
   "metadata": {},
   "outputs": [
    {
     "data": {
      "text/plain": [
       "((4439, 60, 3), (4439,))"
      ]
     },
     "execution_count": 19,
     "metadata": {},
     "output_type": "execute_result"
    }
   ],
   "source": [
    "X_train.shape, y_train.shape"
   ]
  },
  {
   "cell_type": "markdown",
   "metadata": {},
   "source": [
    "# Building LSTM"
   ]
  },
  {
   "cell_type": "code",
   "execution_count": 20,
   "metadata": {},
   "outputs": [],
   "source": [
    "from tensorflow.keras import Sequential\n",
    "from tensorflow.keras.layers import Dense,LSTM, Dropout"
   ]
  },
  {
   "cell_type": "code",
   "execution_count": 21,
   "metadata": {},
   "outputs": [],
   "source": [
    "import tensorflow as tf\n",
    "import random as python_random\n",
    "\n",
    "def reset_seeds():\n",
    "    np.random.seed(100) \n",
    "    python_random.seed(100)\n",
    "    tf.random.set_seed(100)\n",
    "\n",
    "reset_seeds() \n",
    "\n",
    "Frac_LSTM = Sequential()\n",
    "\n",
    "Frac_LSTM.add(LSTM(units=200, activation='relu', return_sequences=True, input_shape=(X_train.shape[1],3)))\n",
    "Frac_LSTM.add(Dropout(0.3))\n",
    "\n",
    "Frac_LSTM.add(LSTM(units=200, activation='relu', return_sequences=True))\n",
    "Frac_LSTM.add(Dropout(0.3))\n",
    "\n",
    "\n",
    "Frac_LSTM.add(LSTM(units=200, activation='relu'))\n",
    "Frac_LSTM.add(Dropout(0.3))\n",
    "\n",
    "Frac_LSTM.add(Dense(units=1))"
   ]
  },
  {
   "cell_type": "code",
   "execution_count": 22,
   "metadata": {},
   "outputs": [
    {
     "name": "stdout",
     "output_type": "stream",
     "text": [
      "Model: \"sequential\"\n",
      "_________________________________________________________________\n",
      "Layer (type)                 Output Shape              Param #   \n",
      "=================================================================\n",
      "lstm (LSTM)                  (None, 60, 200)           163200    \n",
      "_________________________________________________________________\n",
      "dropout (Dropout)            (None, 60, 200)           0         \n",
      "_________________________________________________________________\n",
      "lstm_1 (LSTM)                (None, 60, 200)           320800    \n",
      "_________________________________________________________________\n",
      "dropout_1 (Dropout)          (None, 60, 200)           0         \n",
      "_________________________________________________________________\n",
      "lstm_2 (LSTM)                (None, 200)               320800    \n",
      "_________________________________________________________________\n",
      "dropout_2 (Dropout)          (None, 200)               0         \n",
      "_________________________________________________________________\n",
      "dense (Dense)                (None, 1)                 201       \n",
      "=================================================================\n",
      "Total params: 805,001\n",
      "Trainable params: 805,001\n",
      "Non-trainable params: 0\n",
      "_________________________________________________________________\n"
     ]
    }
   ],
   "source": [
    "Frac_LSTM.summary()"
   ]
  },
  {
   "cell_type": "code",
   "execution_count": 23,
   "metadata": {},
   "outputs": [],
   "source": [
    "Frac_LSTM.compile(optimizer='adam', loss='mean_squared_error')"
   ]
  },
  {
   "cell_type": "code",
   "execution_count": 24,
   "metadata": {
    "scrolled": false
   },
   "outputs": [
    {
     "name": "stdout",
     "output_type": "stream",
     "text": [
      "Train on 4439 samples\n",
      "Epoch 1/100\n",
      "4439/4439 [==============================] - 25s 6ms/sample - loss: 0.0605\n",
      "Epoch 2/100\n",
      "4439/4439 [==============================] - 26s 6ms/sample - loss: 0.0072\n",
      "Epoch 3/100\n",
      "4439/4439 [==============================] - 31s 7ms/sample - loss: 0.0065\n",
      "Epoch 4/100\n",
      "4439/4439 [==============================] - 33s 7ms/sample - loss: 0.0059\n",
      "Epoch 5/100\n",
      "4439/4439 [==============================] - 33s 7ms/sample - loss: 0.0058\n",
      "Epoch 6/100\n",
      "4439/4439 [==============================] - 34s 8ms/sample - loss: 0.0053\n",
      "Epoch 7/100\n",
      "4439/4439 [==============================] - 36s 8ms/sample - loss: 0.0051\n",
      "Epoch 8/100\n",
      "4439/4439 [==============================] - 37s 8ms/sample - loss: 0.0049\n",
      "Epoch 9/100\n",
      "4439/4439 [==============================] - 40s 9ms/sample - loss: 0.0046\n",
      "Epoch 10/100\n",
      "4439/4439 [==============================] - 41s 9ms/sample - loss: 0.0042\n",
      "Epoch 11/100\n",
      "4439/4439 [==============================] - 47s 11ms/sample - loss: 0.0043\n",
      "Epoch 12/100\n",
      "4439/4439 [==============================] - 56s 13ms/sample - loss: 0.0041\n",
      "Epoch 13/100\n",
      "4439/4439 [==============================] - 59s 13ms/sample - loss: 0.0038\n",
      "Epoch 14/100\n",
      "4439/4439 [==============================] - 58s 13ms/sample - loss: 0.0037\n",
      "Epoch 15/100\n",
      "4439/4439 [==============================] - 60s 14ms/sample - loss: 0.0035\n",
      "Epoch 16/100\n",
      "4439/4439 [==============================] - 61s 14ms/sample - loss: 0.0035\n",
      "Epoch 17/100\n",
      "4439/4439 [==============================] - 61s 14ms/sample - loss: 0.0032\n",
      "Epoch 18/100\n",
      "4439/4439 [==============================] - 61s 14ms/sample - loss: 0.0031\n",
      "Epoch 19/100\n",
      "4439/4439 [==============================] - 63s 14ms/sample - loss: 0.0031\n",
      "Epoch 20/100\n",
      "4439/4439 [==============================] - 61s 14ms/sample - loss: 0.0029\n",
      "Epoch 21/100\n",
      "4439/4439 [==============================] - 65s 15ms/sample - loss: 0.0028\n",
      "Epoch 22/100\n",
      "4439/4439 [==============================] - 77s 17ms/sample - loss: 0.0026\n",
      "Epoch 23/100\n",
      "4439/4439 [==============================] - 75s 17ms/sample - loss: 0.0026\n",
      "Epoch 24/100\n",
      "4439/4439 [==============================] - 64s 14ms/sample - loss: 0.0024\n",
      "Epoch 25/100\n",
      "4439/4439 [==============================] - 65s 15ms/sample - loss: 0.0022\n",
      "Epoch 26/100\n",
      "4439/4439 [==============================] - 47s 11ms/sample - loss: 0.0021\n",
      "Epoch 27/100\n",
      "4439/4439 [==============================] - 45s 10ms/sample - loss: 0.0020\n",
      "Epoch 28/100\n",
      "4439/4439 [==============================] - 44s 10ms/sample - loss: 0.0019\n",
      "Epoch 29/100\n",
      "4439/4439 [==============================] - 44s 10ms/sample - loss: 0.0018\n",
      "Epoch 30/100\n",
      "4439/4439 [==============================] - 42s 9ms/sample - loss: 0.0017\n",
      "Epoch 31/100\n",
      "4439/4439 [==============================] - 41s 9ms/sample - loss: 0.0016\n",
      "Epoch 32/100\n",
      "4439/4439 [==============================] - 41s 9ms/sample - loss: 0.0014\n",
      "Epoch 33/100\n",
      "4439/4439 [==============================] - 41s 9ms/sample - loss: 0.0013\n",
      "Epoch 34/100\n",
      "4439/4439 [==============================] - 40s 9ms/sample - loss: 0.0013\n",
      "Epoch 35/100\n",
      "4439/4439 [==============================] - 41s 9ms/sample - loss: 0.0011\n",
      "Epoch 36/100\n",
      "4439/4439 [==============================] - 40s 9ms/sample - loss: 0.0011\n",
      "Epoch 37/100\n",
      "4439/4439 [==============================] - 40s 9ms/sample - loss: 0.0010\n",
      "Epoch 38/100\n",
      "4439/4439 [==============================] - 40s 9ms/sample - loss: 9.1249e-04\n",
      "Epoch 39/100\n",
      "4439/4439 [==============================] - 40s 9ms/sample - loss: 8.3466e-04\n",
      "Epoch 40/100\n",
      "4439/4439 [==============================] - 41s 9ms/sample - loss: 8.2813e-04\n",
      "Epoch 41/100\n",
      "4439/4439 [==============================] - 40s 9ms/sample - loss: 7.4052e-04\n",
      "Epoch 42/100\n",
      "4439/4439 [==============================] - 40s 9ms/sample - loss: 7.1463e-04\n",
      "Epoch 43/100\n",
      "4439/4439 [==============================] - 40s 9ms/sample - loss: 6.5597e-04\n",
      "Epoch 44/100\n",
      "4439/4439 [==============================] - 39s 9ms/sample - loss: 5.8084e-04\n",
      "Epoch 45/100\n",
      "4439/4439 [==============================] - 40s 9ms/sample - loss: 5.7623e-04\n",
      "Epoch 46/100\n",
      "4439/4439 [==============================] - 40s 9ms/sample - loss: 5.1446e-04\n",
      "Epoch 47/100\n",
      "4439/4439 [==============================] - 39s 9ms/sample - loss: 4.4823e-04\n",
      "Epoch 48/100\n",
      "4439/4439 [==============================] - 40s 9ms/sample - loss: 4.4719e-04\n",
      "Epoch 49/100\n",
      "4439/4439 [==============================] - 39s 9ms/sample - loss: 4.0531e-04\n",
      "Epoch 50/100\n",
      "4439/4439 [==============================] - 40s 9ms/sample - loss: 4.1777e-04\n",
      "Epoch 51/100\n",
      "4439/4439 [==============================] - 39s 9ms/sample - loss: 3.8938e-04\n",
      "Epoch 52/100\n",
      "4439/4439 [==============================] - 44s 10ms/sample - loss: 4.1503e-04\n",
      "Epoch 53/100\n",
      "4439/4439 [==============================] - 53s 12ms/sample - loss: 3.3509e-04\n",
      "Epoch 54/100\n",
      "4439/4439 [==============================] - 51s 12ms/sample - loss: 3.7456e-04\n",
      "Epoch 55/100\n",
      "4439/4439 [==============================] - 51s 12ms/sample - loss: 2.9405e-04\n",
      "Epoch 56/100\n",
      "4439/4439 [==============================] - 51s 11ms/sample - loss: 3.4739e-04\n",
      "Epoch 57/100\n",
      "4439/4439 [==============================] - 51s 12ms/sample - loss: 3.2068e-04\n",
      "Epoch 58/100\n",
      "4439/4439 [==============================] - 50s 11ms/sample - loss: 2.9593e-04\n",
      "Epoch 59/100\n",
      "4439/4439 [==============================] - 51s 11ms/sample - loss: 2.7846e-04\n",
      "Epoch 60/100\n",
      "4439/4439 [==============================] - 51s 11ms/sample - loss: 2.7637e-04\n",
      "Epoch 61/100\n",
      "4439/4439 [==============================] - 50s 11ms/sample - loss: 3.0711e-04\n",
      "Epoch 62/100\n",
      "4439/4439 [==============================] - 50s 11ms/sample - loss: 3.1523e-04\n",
      "Epoch 63/100\n",
      "4439/4439 [==============================] - 52s 12ms/sample - loss: 2.9270e-04\n",
      "Epoch 64/100\n",
      "4439/4439 [==============================] - 51s 11ms/sample - loss: 3.0374e-04\n",
      "Epoch 65/100\n",
      "4439/4439 [==============================] - 50s 11ms/sample - loss: 2.3331e-04\n",
      "Epoch 66/100\n",
      "4439/4439 [==============================] - 50s 11ms/sample - loss: 2.3979e-04\n",
      "Epoch 67/100\n",
      "4439/4439 [==============================] - 49s 11ms/sample - loss: 2.5573e-04\n",
      "Epoch 68/100\n",
      "4439/4439 [==============================] - 50s 11ms/sample - loss: 2.8887e-04\n",
      "Epoch 69/100\n",
      "4439/4439 [==============================] - 49s 11ms/sample - loss: 2.1869e-04\n",
      "Epoch 70/100\n",
      "4439/4439 [==============================] - 34s 8ms/sample - loss: 2.2514e-04\n",
      "Epoch 71/100\n",
      "4439/4439 [==============================] - 28s 6ms/sample - loss: 3.2895e-04\n",
      "Epoch 72/100\n",
      "4439/4439 [==============================] - 33s 8ms/sample - loss: 3.0359e-04\n",
      "Epoch 73/100\n",
      "4439/4439 [==============================] - 36s 8ms/sample - loss: 2.5372e-04\n",
      "Epoch 74/100\n",
      "4439/4439 [==============================] - 37s 8ms/sample - loss: 2.5347e-04\n",
      "Epoch 75/100\n",
      "4439/4439 [==============================] - 37s 8ms/sample - loss: 2.1647e-04\n",
      "Epoch 76/100\n",
      "4439/4439 [==============================] - 37s 8ms/sample - loss: 2.6094e-04\n",
      "Epoch 77/100\n",
      "4439/4439 [==============================] - 37s 8ms/sample - loss: 2.5044e-04\n",
      "Epoch 78/100\n",
      "4439/4439 [==============================] - 38s 8ms/sample - loss: 2.5905e-04\n",
      "Epoch 79/100\n",
      "4439/4439 [==============================] - 38s 9ms/sample - loss: 2.2727e-04\n",
      "Epoch 80/100\n",
      "4439/4439 [==============================] - 38s 9ms/sample - loss: 2.2593e-04\n",
      "Epoch 81/100\n",
      "4439/4439 [==============================] - 38s 9ms/sample - loss: 2.1373e-04\n",
      "Epoch 82/100\n",
      "4439/4439 [==============================] - 38s 8ms/sample - loss: 2.2020e-04\n",
      "Epoch 83/100\n",
      "4439/4439 [==============================] - 40s 9ms/sample - loss: 2.2799e-04\n",
      "Epoch 84/100\n",
      "4439/4439 [==============================] - 40s 9ms/sample - loss: 1.9938e-04\n",
      "Epoch 85/100\n",
      "4439/4439 [==============================] - 40s 9ms/sample - loss: 1.9357e-04\n",
      "Epoch 86/100\n",
      "4439/4439 [==============================] - 40s 9ms/sample - loss: 2.0235e-04\n",
      "Epoch 87/100\n",
      "4439/4439 [==============================] - 39s 9ms/sample - loss: 1.7313e-04\n",
      "Epoch 88/100\n",
      "4439/4439 [==============================] - 40s 9ms/sample - loss: 1.6790e-04\n",
      "Epoch 89/100\n",
      "4439/4439 [==============================] - 40s 9ms/sample - loss: 2.0471e-04\n",
      "Epoch 90/100\n",
      "4439/4439 [==============================] - 39s 9ms/sample - loss: 2.0579e-04\n",
      "Epoch 91/100\n"
     ]
    },
    {
     "name": "stdout",
     "output_type": "stream",
     "text": [
      "4439/4439 [==============================] - 39s 9ms/sample - loss: 1.8662e-04\n",
      "Epoch 92/100\n",
      "4439/4439 [==============================] - 39s 9ms/sample - loss: 2.1588e-04\n",
      "Epoch 93/100\n",
      "4439/4439 [==============================] - 39s 9ms/sample - loss: 2.0377e-04\n",
      "Epoch 94/100\n",
      "4439/4439 [==============================] - 39s 9ms/sample - loss: 1.9440e-04\n",
      "Epoch 95/100\n",
      "4439/4439 [==============================] - 39s 9ms/sample - loss: 2.8725e-04\n",
      "Epoch 96/100\n",
      "4439/4439 [==============================] - 39s 9ms/sample - loss: 2.2165e-04\n",
      "Epoch 97/100\n",
      "4439/4439 [==============================] - 38s 9ms/sample - loss: 2.3116e-04\n",
      "Epoch 98/100\n",
      "4439/4439 [==============================] - 39s 9ms/sample - loss: 2.0920e-04\n",
      "Epoch 99/100\n",
      "4439/4439 [==============================] - 38s 9ms/sample - loss: 1.9204e-04\n",
      "Epoch 100/100\n",
      "4439/4439 [==============================] - 38s 8ms/sample - loss: 1.5980e-04\n"
     ]
    }
   ],
   "source": [
    "history=Frac_LSTM.fit(X_train,y_train, epochs=100, batch_size=32, shuffle=True)"
   ]
  },
  {
   "cell_type": "code",
   "execution_count": 25,
   "metadata": {},
   "outputs": [],
   "source": [
    "# Preparing Test Data set"
   ]
  },
  {
   "cell_type": "code",
   "execution_count": 26,
   "metadata": {},
   "outputs": [
    {
     "data": {
      "text/html": [
       "<div>\n",
       "<style scoped>\n",
       "    .dataframe tbody tr th:only-of-type {\n",
       "        vertical-align: middle;\n",
       "    }\n",
       "\n",
       "    .dataframe tbody tr th {\n",
       "        vertical-align: top;\n",
       "    }\n",
       "\n",
       "    .dataframe thead th {\n",
       "        text-align: right;\n",
       "    }\n",
       "</style>\n",
       "<table border=\"1\" class=\"dataframe\">\n",
       "  <thead>\n",
       "    <tr style=\"text-align: right;\">\n",
       "      <th></th>\n",
       "      <th>Time</th>\n",
       "      <th>SLUR RATE</th>\n",
       "      <th>PROP CON</th>\n",
       "      <th>TR PRESS</th>\n",
       "    </tr>\n",
       "  </thead>\n",
       "  <tbody>\n",
       "    <tr>\n",
       "      <th>4500</th>\n",
       "      <td>4501</td>\n",
       "      <td>98.4</td>\n",
       "      <td>1.0</td>\n",
       "      <td>9120</td>\n",
       "    </tr>\n",
       "    <tr>\n",
       "      <th>4501</th>\n",
       "      <td>4502</td>\n",
       "      <td>98.6</td>\n",
       "      <td>1.0</td>\n",
       "      <td>9133</td>\n",
       "    </tr>\n",
       "    <tr>\n",
       "      <th>4502</th>\n",
       "      <td>4503</td>\n",
       "      <td>98.7</td>\n",
       "      <td>1.0</td>\n",
       "      <td>9131</td>\n",
       "    </tr>\n",
       "    <tr>\n",
       "      <th>4503</th>\n",
       "      <td>4504</td>\n",
       "      <td>98.6</td>\n",
       "      <td>1.0</td>\n",
       "      <td>9125</td>\n",
       "    </tr>\n",
       "    <tr>\n",
       "      <th>4504</th>\n",
       "      <td>4505</td>\n",
       "      <td>98.6</td>\n",
       "      <td>1.0</td>\n",
       "      <td>9118</td>\n",
       "    </tr>\n",
       "  </tbody>\n",
       "</table>\n",
       "</div>"
      ],
      "text/plain": [
       "      Time  SLUR RATE  PROP CON  TR PRESS\n",
       "4500  4501       98.4       1.0      9120\n",
       "4501  4502       98.6       1.0      9133\n",
       "4502  4503       98.7       1.0      9131\n",
       "4503  4504       98.6       1.0      9125\n",
       "4504  4505       98.6       1.0      9118"
      ]
     },
     "execution_count": 26,
     "metadata": {},
     "output_type": "execute_result"
    }
   ],
   "source": [
    "data_testing.head()"
   ]
  },
  {
   "cell_type": "code",
   "execution_count": 27,
   "metadata": {},
   "outputs": [
    {
     "data": {
      "text/html": [
       "<div>\n",
       "<style scoped>\n",
       "    .dataframe tbody tr th:only-of-type {\n",
       "        vertical-align: middle;\n",
       "    }\n",
       "\n",
       "    .dataframe tbody tr th {\n",
       "        vertical-align: top;\n",
       "    }\n",
       "\n",
       "    .dataframe thead th {\n",
       "        text-align: right;\n",
       "    }\n",
       "</style>\n",
       "<table border=\"1\" class=\"dataframe\">\n",
       "  <thead>\n",
       "    <tr style=\"text-align: right;\">\n",
       "      <th></th>\n",
       "      <th>Time</th>\n",
       "      <th>SLUR RATE</th>\n",
       "      <th>PROP CON</th>\n",
       "      <th>TR PRESS</th>\n",
       "    </tr>\n",
       "  </thead>\n",
       "  <tbody>\n",
       "    <tr>\n",
       "      <th>1</th>\n",
       "      <td>2</td>\n",
       "      <td>50.1</td>\n",
       "      <td>0.0</td>\n",
       "      <td>8537</td>\n",
       "    </tr>\n",
       "    <tr>\n",
       "      <th>2</th>\n",
       "      <td>3</td>\n",
       "      <td>50.1</td>\n",
       "      <td>0.0</td>\n",
       "      <td>8534</td>\n",
       "    </tr>\n",
       "    <tr>\n",
       "      <th>3</th>\n",
       "      <td>4</td>\n",
       "      <td>49.3</td>\n",
       "      <td>0.0</td>\n",
       "      <td>8617</td>\n",
       "    </tr>\n",
       "    <tr>\n",
       "      <th>4</th>\n",
       "      <td>5</td>\n",
       "      <td>49.2</td>\n",
       "      <td>0.0</td>\n",
       "      <td>8646</td>\n",
       "    </tr>\n",
       "    <tr>\n",
       "      <th>5</th>\n",
       "      <td>6</td>\n",
       "      <td>48.7</td>\n",
       "      <td>0.0</td>\n",
       "      <td>8667</td>\n",
       "    </tr>\n",
       "  </tbody>\n",
       "</table>\n",
       "</div>"
      ],
      "text/plain": [
       "   Time  SLUR RATE  PROP CON  TR PRESS\n",
       "1     2       50.1       0.0      8537\n",
       "2     3       50.1       0.0      8534\n",
       "3     4       49.3       0.0      8617\n",
       "4     5       49.2       0.0      8646\n",
       "5     6       48.7       0.0      8667"
      ]
     },
     "execution_count": 27,
     "metadata": {},
     "output_type": "execute_result"
    }
   ],
   "source": [
    "data_training.head()"
   ]
  },
  {
   "cell_type": "code",
   "execution_count": 28,
   "metadata": {},
   "outputs": [],
   "source": [
    "past_60_secs= data_training.tail(60)\n"
   ]
  },
  {
   "cell_type": "code",
   "execution_count": 29,
   "metadata": {},
   "outputs": [
    {
     "data": {
      "text/html": [
       "<div>\n",
       "<style scoped>\n",
       "    .dataframe tbody tr th:only-of-type {\n",
       "        vertical-align: middle;\n",
       "    }\n",
       "\n",
       "    .dataframe tbody tr th {\n",
       "        vertical-align: top;\n",
       "    }\n",
       "\n",
       "    .dataframe thead th {\n",
       "        text-align: right;\n",
       "    }\n",
       "</style>\n",
       "<table border=\"1\" class=\"dataframe\">\n",
       "  <thead>\n",
       "    <tr style=\"text-align: right;\">\n",
       "      <th></th>\n",
       "      <th>Time</th>\n",
       "      <th>SLUR RATE</th>\n",
       "      <th>PROP CON</th>\n",
       "      <th>TR PRESS</th>\n",
       "    </tr>\n",
       "  </thead>\n",
       "  <tbody>\n",
       "    <tr>\n",
       "      <th>0</th>\n",
       "      <td>4441</td>\n",
       "      <td>98.6</td>\n",
       "      <td>1.0</td>\n",
       "      <td>9132</td>\n",
       "    </tr>\n",
       "    <tr>\n",
       "      <th>1</th>\n",
       "      <td>4442</td>\n",
       "      <td>98.7</td>\n",
       "      <td>1.0</td>\n",
       "      <td>9122</td>\n",
       "    </tr>\n",
       "    <tr>\n",
       "      <th>2</th>\n",
       "      <td>4443</td>\n",
       "      <td>98.6</td>\n",
       "      <td>1.0</td>\n",
       "      <td>9124</td>\n",
       "    </tr>\n",
       "    <tr>\n",
       "      <th>3</th>\n",
       "      <td>4444</td>\n",
       "      <td>98.8</td>\n",
       "      <td>1.0</td>\n",
       "      <td>9125</td>\n",
       "    </tr>\n",
       "    <tr>\n",
       "      <th>4</th>\n",
       "      <td>4445</td>\n",
       "      <td>98.8</td>\n",
       "      <td>1.0</td>\n",
       "      <td>9127</td>\n",
       "    </tr>\n",
       "  </tbody>\n",
       "</table>\n",
       "</div>"
      ],
      "text/plain": [
       "   Time  SLUR RATE  PROP CON  TR PRESS\n",
       "0  4441       98.6       1.0      9132\n",
       "1  4442       98.7       1.0      9122\n",
       "2  4443       98.6       1.0      9124\n",
       "3  4444       98.8       1.0      9125\n",
       "4  4445       98.8       1.0      9127"
      ]
     },
     "execution_count": 29,
     "metadata": {},
     "output_type": "execute_result"
    }
   ],
   "source": [
    "df=past_60_secs.append(data_testing,ignore_index=True)\n",
    "df.head()"
   ]
  },
  {
   "cell_type": "code",
   "execution_count": 30,
   "metadata": {},
   "outputs": [
    {
     "data": {
      "text/html": [
       "<div>\n",
       "<style scoped>\n",
       "    .dataframe tbody tr th:only-of-type {\n",
       "        vertical-align: middle;\n",
       "    }\n",
       "\n",
       "    .dataframe tbody tr th {\n",
       "        vertical-align: top;\n",
       "    }\n",
       "\n",
       "    .dataframe thead th {\n",
       "        text-align: right;\n",
       "    }\n",
       "</style>\n",
       "<table border=\"1\" class=\"dataframe\">\n",
       "  <thead>\n",
       "    <tr style=\"text-align: right;\">\n",
       "      <th></th>\n",
       "      <th>SLUR RATE</th>\n",
       "      <th>PROP CON</th>\n",
       "      <th>TR PRESS</th>\n",
       "    </tr>\n",
       "  </thead>\n",
       "  <tbody>\n",
       "    <tr>\n",
       "      <th>0</th>\n",
       "      <td>98.6</td>\n",
       "      <td>1.0</td>\n",
       "      <td>9132</td>\n",
       "    </tr>\n",
       "    <tr>\n",
       "      <th>1</th>\n",
       "      <td>98.7</td>\n",
       "      <td>1.0</td>\n",
       "      <td>9122</td>\n",
       "    </tr>\n",
       "    <tr>\n",
       "      <th>2</th>\n",
       "      <td>98.6</td>\n",
       "      <td>1.0</td>\n",
       "      <td>9124</td>\n",
       "    </tr>\n",
       "    <tr>\n",
       "      <th>3</th>\n",
       "      <td>98.8</td>\n",
       "      <td>1.0</td>\n",
       "      <td>9125</td>\n",
       "    </tr>\n",
       "    <tr>\n",
       "      <th>4</th>\n",
       "      <td>98.8</td>\n",
       "      <td>1.0</td>\n",
       "      <td>9127</td>\n",
       "    </tr>\n",
       "  </tbody>\n",
       "</table>\n",
       "</div>"
      ],
      "text/plain": [
       "   SLUR RATE  PROP CON  TR PRESS\n",
       "0       98.6       1.0      9132\n",
       "1       98.7       1.0      9122\n",
       "2       98.6       1.0      9124\n",
       "3       98.8       1.0      9125\n",
       "4       98.8       1.0      9127"
      ]
     },
     "execution_count": 30,
     "metadata": {},
     "output_type": "execute_result"
    }
   ],
   "source": [
    "df=df.drop(['Time'], axis=1)\n",
    "df.head()"
   ]
  },
  {
   "cell_type": "code",
   "execution_count": 31,
   "metadata": {},
   "outputs": [
    {
     "data": {
      "text/html": [
       "<div>\n",
       "<style scoped>\n",
       "    .dataframe tbody tr th:only-of-type {\n",
       "        vertical-align: middle;\n",
       "    }\n",
       "\n",
       "    .dataframe tbody tr th {\n",
       "        vertical-align: top;\n",
       "    }\n",
       "\n",
       "    .dataframe thead th {\n",
       "        text-align: right;\n",
       "    }\n",
       "</style>\n",
       "<table border=\"1\" class=\"dataframe\">\n",
       "  <thead>\n",
       "    <tr style=\"text-align: right;\">\n",
       "      <th></th>\n",
       "      <th>SLUR RATE</th>\n",
       "      <th>PROP CON</th>\n",
       "      <th>TR PRESS</th>\n",
       "    </tr>\n",
       "  </thead>\n",
       "  <tbody>\n",
       "    <tr>\n",
       "      <th>count</th>\n",
       "      <td>160.000000</td>\n",
       "      <td>160.0</td>\n",
       "      <td>160.000000</td>\n",
       "    </tr>\n",
       "    <tr>\n",
       "      <th>mean</th>\n",
       "      <td>98.878125</td>\n",
       "      <td>1.0</td>\n",
       "      <td>9156.781250</td>\n",
       "    </tr>\n",
       "    <tr>\n",
       "      <th>std</th>\n",
       "      <td>0.307899</td>\n",
       "      <td>0.0</td>\n",
       "      <td>22.452934</td>\n",
       "    </tr>\n",
       "    <tr>\n",
       "      <th>min</th>\n",
       "      <td>98.200000</td>\n",
       "      <td>1.0</td>\n",
       "      <td>9118.000000</td>\n",
       "    </tr>\n",
       "    <tr>\n",
       "      <th>25%</th>\n",
       "      <td>98.600000</td>\n",
       "      <td>1.0</td>\n",
       "      <td>9137.000000</td>\n",
       "    </tr>\n",
       "    <tr>\n",
       "      <th>50%</th>\n",
       "      <td>98.900000</td>\n",
       "      <td>1.0</td>\n",
       "      <td>9158.500000</td>\n",
       "    </tr>\n",
       "    <tr>\n",
       "      <th>75%</th>\n",
       "      <td>99.100000</td>\n",
       "      <td>1.0</td>\n",
       "      <td>9176.000000</td>\n",
       "    </tr>\n",
       "    <tr>\n",
       "      <th>max</th>\n",
       "      <td>99.500000</td>\n",
       "      <td>1.0</td>\n",
       "      <td>9201.000000</td>\n",
       "    </tr>\n",
       "  </tbody>\n",
       "</table>\n",
       "</div>"
      ],
      "text/plain": [
       "        SLUR RATE  PROP CON     TR PRESS\n",
       "count  160.000000     160.0   160.000000\n",
       "mean    98.878125       1.0  9156.781250\n",
       "std      0.307899       0.0    22.452934\n",
       "min     98.200000       1.0  9118.000000\n",
       "25%     98.600000       1.0  9137.000000\n",
       "50%     98.900000       1.0  9158.500000\n",
       "75%     99.100000       1.0  9176.000000\n",
       "max     99.500000       1.0  9201.000000"
      ]
     },
     "execution_count": 31,
     "metadata": {},
     "output_type": "execute_result"
    }
   ],
   "source": [
    "df.describe()"
   ]
  },
  {
   "cell_type": "code",
   "execution_count": 32,
   "metadata": {},
   "outputs": [],
   "source": [
    "testing_inputs= scaler.transform(df)"
   ]
  },
  {
   "cell_type": "code",
   "execution_count": 33,
   "metadata": {},
   "outputs": [
    {
     "data": {
      "text/plain": [
       "array([[0.96705426, 0.4       , 0.88760331],\n",
       "       [0.96899225, 0.4       , 0.87933884],\n",
       "       [0.96705426, 0.4       , 0.88099174],\n",
       "       [0.97093023, 0.4       , 0.88181818],\n",
       "       [0.97093023, 0.4       , 0.88347107],\n",
       "       [0.97093023, 0.4       , 0.88347107],\n",
       "       [0.96705426, 0.4       , 0.89669421],\n",
       "       [0.97286822, 0.4       , 0.89173554],\n",
       "       [0.96705426, 0.4       , 0.89173554],\n",
       "       [0.96705426, 0.4       , 0.88512397],\n",
       "       [0.96899225, 0.4       , 0.88347107],\n",
       "       [0.96511628, 0.4       , 0.89173554],\n",
       "       [0.96511628, 0.4       , 0.88677686],\n",
       "       [0.96705426, 0.4       , 0.89752066],\n",
       "       [0.97093023, 0.4       , 0.89338843],\n",
       "       [0.96511628, 0.4       , 0.89173554],\n",
       "       [0.96317829, 0.4       , 0.89752066],\n",
       "       [0.96511628, 0.4       , 0.88677686],\n",
       "       [0.96705426, 0.4       , 0.8892562 ],\n",
       "       [0.96899225, 0.4       , 0.89256198],\n",
       "       [0.96899225, 0.4       , 0.90247934],\n",
       "       [0.96317829, 0.4       , 0.90578512],\n",
       "       [0.96317829, 0.4       , 0.89421488],\n",
       "       [0.97093023, 0.4       , 0.89256198],\n",
       "       [0.95930233, 0.4       , 0.89917355],\n",
       "       [0.96511628, 0.4       , 0.89008264],\n",
       "       [0.97093023, 0.4       , 0.89586777],\n",
       "       [0.96511628, 0.4       , 0.89504132],\n",
       "       [0.96124031, 0.4       , 0.89586777],\n",
       "       [0.97286822, 0.4       , 0.90330579],\n",
       "       [0.96899225, 0.4       , 0.90330579],\n",
       "       [0.96705426, 0.4       , 0.90826446],\n",
       "       [0.96705426, 0.4       , 0.88760331],\n",
       "       [0.96899225, 0.4       , 0.8892562 ],\n",
       "       [0.96705426, 0.4       , 0.9       ],\n",
       "       [0.96705426, 0.4       , 0.89504132],\n",
       "       [0.96705426, 0.4       , 0.90082645],\n",
       "       [0.96705426, 0.4       , 0.89338843],\n",
       "       [0.97093023, 0.4       , 0.9       ],\n",
       "       [0.96511628, 0.4       , 0.89173554],\n",
       "       [0.96899225, 0.4       , 0.88181818],\n",
       "       [0.96511628, 0.4       , 0.88842975],\n",
       "       [0.97093023, 0.4       , 0.89752066],\n",
       "       [0.96317829, 0.4       , 0.89421488],\n",
       "       [0.96705426, 0.4       , 0.89917355],\n",
       "       [0.96705426, 0.4       , 0.89173554],\n",
       "       [0.96899225, 0.4       , 0.89090909],\n",
       "       [0.96899225, 0.4       , 0.88512397],\n",
       "       [0.96705426, 0.4       , 0.8892562 ],\n",
       "       [0.96705426, 0.4       , 0.89338843],\n",
       "       [0.97093023, 0.4       , 0.88512397],\n",
       "       [0.97093023, 0.4       , 0.89173554],\n",
       "       [0.96124031, 0.4       , 0.9       ],\n",
       "       [0.96899225, 0.4       , 0.88512397],\n",
       "       [0.96705426, 0.4       , 0.89504132],\n",
       "       [0.96899225, 0.4       , 0.88347107],\n",
       "       [0.97093023, 0.4       , 0.88181818],\n",
       "       [0.96511628, 0.4       , 0.88677686],\n",
       "       [0.96317829, 0.4       , 0.89090909],\n",
       "       [0.96705426, 0.4       , 0.89834711],\n",
       "       [0.96317829, 0.4       , 0.87768595],\n",
       "       [0.96705426, 0.4       , 0.88842975],\n",
       "       [0.96899225, 0.4       , 0.88677686],\n",
       "       [0.96705426, 0.4       , 0.88181818],\n",
       "       [0.96705426, 0.4       , 0.87603306],\n",
       "       [0.96705426, 0.4       , 0.89008264],\n",
       "       [0.96899225, 0.4       , 0.88512397],\n",
       "       [0.97093023, 0.4       , 0.88429752],\n",
       "       [0.96511628, 0.4       , 0.89090909],\n",
       "       [0.96705426, 0.4       , 0.89008264],\n",
       "       [0.96705426, 0.4       , 0.88016529],\n",
       "       [0.96317829, 0.4       , 0.8785124 ],\n",
       "       [0.96317829, 0.4       , 0.89504132],\n",
       "       [0.96317829, 0.4       , 0.88347107],\n",
       "       [0.96705426, 0.4       , 0.88760331],\n",
       "       [0.96317829, 0.4       , 0.89669421],\n",
       "       [0.96511628, 0.4       , 0.90991736],\n",
       "       [0.96124031, 0.4       , 0.91570248],\n",
       "       [0.97674419, 0.4       , 0.90082645],\n",
       "       [0.98255814, 0.4       , 0.91735537],\n",
       "       [0.97868217, 0.4       , 0.91983471],\n",
       "       [0.97286822, 0.4       , 0.91487603],\n",
       "       [0.97674419, 0.4       , 0.91570248],\n",
       "       [0.9748062 , 0.4       , 0.90909091],\n",
       "       [0.97674419, 0.4       , 0.91239669],\n",
       "       [0.97674419, 0.4       , 0.90330579],\n",
       "       [0.97674419, 0.4       , 0.91735537],\n",
       "       [0.97674419, 0.4       , 0.91157025],\n",
       "       [0.97674419, 0.4       , 0.9107438 ],\n",
       "       [0.9748062 , 0.4       , 0.91570248],\n",
       "       [0.9748062 , 0.4       , 0.91735537],\n",
       "       [0.97868217, 0.4       , 0.91487603],\n",
       "       [0.97674419, 0.4       , 0.9107438 ],\n",
       "       [0.97674419, 0.4       , 0.91322314],\n",
       "       [0.98062016, 0.4       , 0.91322314],\n",
       "       [0.98062016, 0.4       , 0.92892562],\n",
       "       [0.9748062 , 0.4       , 0.91652893],\n",
       "       [0.97868217, 0.4       , 0.92561983],\n",
       "       [0.97868217, 0.4       , 0.91322314],\n",
       "       [0.97674419, 0.4       , 0.91239669],\n",
       "       [0.98255814, 0.4       , 0.9231405 ],\n",
       "       [0.98062016, 0.4       , 0.90826446],\n",
       "       [0.97868217, 0.4       , 0.91983471],\n",
       "       [0.97868217, 0.4       , 0.91900826],\n",
       "       [0.97674419, 0.4       , 0.91652893],\n",
       "       [0.98449612, 0.4       , 0.92644628],\n",
       "       [0.97674419, 0.4       , 0.91404959],\n",
       "       [0.97868217, 0.4       , 0.92892562],\n",
       "       [0.97674419, 0.4       , 0.91239669],\n",
       "       [0.97868217, 0.4       , 0.92066116],\n",
       "       [0.97674419, 0.4       , 0.93057851],\n",
       "       [0.97674419, 0.4       , 0.92231405],\n",
       "       [0.97674419, 0.4       , 0.91652893],\n",
       "       [0.97868217, 0.4       , 0.92396694],\n",
       "       [0.97674419, 0.4       , 0.92727273],\n",
       "       [0.97868217, 0.4       , 0.91900826],\n",
       "       [0.98062016, 0.4       , 0.9214876 ],\n",
       "       [0.97674419, 0.4       , 0.92396694],\n",
       "       [0.97868217, 0.4       , 0.94214876],\n",
       "       [0.9748062 , 0.4       , 0.91983471],\n",
       "       [0.97868217, 0.4       , 0.92644628],\n",
       "       [0.98062016, 0.4       , 0.92066116],\n",
       "       [0.98062016, 0.4       , 0.91900826],\n",
       "       [0.9748062 , 0.4       , 0.93140496],\n",
       "       [0.9748062 , 0.4       , 0.9214876 ],\n",
       "       [0.97674419, 0.4       , 0.93553719],\n",
       "       [0.97674419, 0.4       , 0.9231405 ],\n",
       "       [0.97286822, 0.4       , 0.93057851],\n",
       "       [0.97868217, 0.4       , 0.93801653],\n",
       "       [0.97868217, 0.4       , 0.91900826],\n",
       "       [0.98062016, 0.4       , 0.92727273],\n",
       "       [0.97674419, 0.4       , 0.9231405 ],\n",
       "       [0.98062016, 0.4       , 0.93140496],\n",
       "       [0.98062016, 0.4       , 0.93305785],\n",
       "       [0.97674419, 0.4       , 0.93057851],\n",
       "       [0.9748062 , 0.4       , 0.92975207],\n",
       "       [0.9748062 , 0.4       , 0.92727273],\n",
       "       [0.97868217, 0.4       , 0.92396694],\n",
       "       [0.98062016, 0.4       , 0.93305785],\n",
       "       [0.98062016, 0.4       , 0.9322314 ],\n",
       "       [0.97868217, 0.4       , 0.93057851],\n",
       "       [0.9748062 , 0.4       , 0.9446281 ],\n",
       "       [0.98062016, 0.4       , 0.93057851],\n",
       "       [0.98255814, 0.4       , 0.94132231],\n",
       "       [0.9748062 , 0.4       , 0.93140496],\n",
       "       [0.97674419, 0.4       , 0.92727273],\n",
       "       [0.97286822, 0.4       , 0.92561983],\n",
       "       [0.9748062 , 0.4       , 0.9231405 ],\n",
       "       [0.97868217, 0.4       , 0.94297521],\n",
       "       [0.97868217, 0.4       , 0.93471074],\n",
       "       [0.9748062 , 0.4       , 0.9338843 ],\n",
       "       [0.97286822, 0.4       , 0.93966942],\n",
       "       [0.9748062 , 0.4       , 0.93305785],\n",
       "       [0.97674419, 0.4       , 0.92644628],\n",
       "       [0.98449612, 0.4       , 0.9214876 ],\n",
       "       [0.97674419, 0.4       , 0.93884298],\n",
       "       [0.9748062 , 0.4       , 0.9446281 ],\n",
       "       [0.9748062 , 0.4       , 0.93057851],\n",
       "       [0.98062016, 0.4       , 0.92561983],\n",
       "       [0.9748062 , 0.4       , 0.9338843 ]])"
      ]
     },
     "execution_count": 33,
     "metadata": {},
     "output_type": "execute_result"
    }
   ],
   "source": [
    "testing_inputs"
   ]
  },
  {
   "cell_type": "code",
   "execution_count": 34,
   "metadata": {},
   "outputs": [],
   "source": [
    "X_test=[]\n",
    "y_test=[]"
   ]
  },
  {
   "cell_type": "code",
   "execution_count": 35,
   "metadata": {},
   "outputs": [
    {
     "data": {
      "text/plain": [
       "160"
      ]
     },
     "execution_count": 35,
     "metadata": {},
     "output_type": "execute_result"
    }
   ],
   "source": [
    "testing_inputs.shape[0]"
   ]
  },
  {
   "cell_type": "code",
   "execution_count": 36,
   "metadata": {},
   "outputs": [],
   "source": [
    "for i in range(60,testing_inputs.shape[0]):\n",
    "    X_test.append(testing_inputs[i-60:i])\n",
    "    y_test.append(testing_inputs[i,0])"
   ]
  },
  {
   "cell_type": "code",
   "execution_count": 37,
   "metadata": {},
   "outputs": [
    {
     "data": {
      "text/plain": [
       "((100, 60, 3), (100,))"
      ]
     },
     "execution_count": 37,
     "metadata": {},
     "output_type": "execute_result"
    }
   ],
   "source": [
    "X_test, y_test= np.array(X_test), np.array(y_test)\n",
    "\n",
    "X_test.shape, y_test.shape\n",
    "\n",
    "# (samples, timestep, features)"
   ]
  },
  {
   "cell_type": "code",
   "execution_count": 38,
   "metadata": {},
   "outputs": [
    {
     "data": {
      "text/html": [
       "<div>\n",
       "<style scoped>\n",
       "    .dataframe tbody tr th:only-of-type {\n",
       "        vertical-align: middle;\n",
       "    }\n",
       "\n",
       "    .dataframe tbody tr th {\n",
       "        vertical-align: top;\n",
       "    }\n",
       "\n",
       "    .dataframe thead th {\n",
       "        text-align: right;\n",
       "    }\n",
       "</style>\n",
       "<table border=\"1\" class=\"dataframe\">\n",
       "  <thead>\n",
       "    <tr style=\"text-align: right;\">\n",
       "      <th></th>\n",
       "      <th>Predicted TR PRESS</th>\n",
       "    </tr>\n",
       "  </thead>\n",
       "  <tbody>\n",
       "    <tr>\n",
       "      <th>0</th>\n",
       "      <td>0.964235</td>\n",
       "    </tr>\n",
       "    <tr>\n",
       "      <th>1</th>\n",
       "      <td>0.964230</td>\n",
       "    </tr>\n",
       "    <tr>\n",
       "      <th>2</th>\n",
       "      <td>0.964221</td>\n",
       "    </tr>\n",
       "    <tr>\n",
       "      <th>3</th>\n",
       "      <td>0.964215</td>\n",
       "    </tr>\n",
       "    <tr>\n",
       "      <th>4</th>\n",
       "      <td>0.964209</td>\n",
       "    </tr>\n",
       "  </tbody>\n",
       "</table>\n",
       "</div>"
      ],
      "text/plain": [
       "   Predicted TR PRESS\n",
       "0            0.964235\n",
       "1            0.964230\n",
       "2            0.964221\n",
       "3            0.964215\n",
       "4            0.964209"
      ]
     },
     "execution_count": 38,
     "metadata": {},
     "output_type": "execute_result"
    }
   ],
   "source": [
    "y_pred=Frac_LSTM.predict(X_test)\n",
    "y_pred=pd.DataFrame(y_pred,columns=['Predicted TR PRESS'])\n",
    "y_pred.head()"
   ]
  },
  {
   "cell_type": "code",
   "execution_count": 39,
   "metadata": {},
   "outputs": [
    {
     "data": {
      "text/html": [
       "<div>\n",
       "<style scoped>\n",
       "    .dataframe tbody tr th:only-of-type {\n",
       "        vertical-align: middle;\n",
       "    }\n",
       "\n",
       "    .dataframe tbody tr th {\n",
       "        vertical-align: top;\n",
       "    }\n",
       "\n",
       "    .dataframe thead th {\n",
       "        text-align: right;\n",
       "    }\n",
       "</style>\n",
       "<table border=\"1\" class=\"dataframe\">\n",
       "  <thead>\n",
       "    <tr style=\"text-align: right;\">\n",
       "      <th></th>\n",
       "      <th>Predicted TR PRESS</th>\n",
       "    </tr>\n",
       "  </thead>\n",
       "  <tbody>\n",
       "    <tr>\n",
       "      <th>count</th>\n",
       "      <td>100.000000</td>\n",
       "    </tr>\n",
       "    <tr>\n",
       "      <th>mean</th>\n",
       "      <td>0.964922</td>\n",
       "    </tr>\n",
       "    <tr>\n",
       "      <th>std</th>\n",
       "      <td>0.000411</td>\n",
       "    </tr>\n",
       "    <tr>\n",
       "      <th>min</th>\n",
       "      <td>0.964168</td>\n",
       "    </tr>\n",
       "    <tr>\n",
       "      <th>25%</th>\n",
       "      <td>0.964638</td>\n",
       "    </tr>\n",
       "    <tr>\n",
       "      <th>50%</th>\n",
       "      <td>0.965096</td>\n",
       "    </tr>\n",
       "    <tr>\n",
       "      <th>75%</th>\n",
       "      <td>0.965229</td>\n",
       "    </tr>\n",
       "    <tr>\n",
       "      <th>max</th>\n",
       "      <td>0.965344</td>\n",
       "    </tr>\n",
       "  </tbody>\n",
       "</table>\n",
       "</div>"
      ],
      "text/plain": [
       "       Predicted TR PRESS\n",
       "count          100.000000\n",
       "mean             0.964922\n",
       "std              0.000411\n",
       "min              0.964168\n",
       "25%              0.964638\n",
       "50%              0.965096\n",
       "75%              0.965229\n",
       "max              0.965344"
      ]
     },
     "execution_count": 39,
     "metadata": {},
     "output_type": "execute_result"
    }
   ],
   "source": [
    "y_pred.describe()"
   ]
  },
  {
   "cell_type": "code",
   "execution_count": 40,
   "metadata": {},
   "outputs": [],
   "source": [
    "y_pred['Predicted TR PRESS']=y_pred['Predicted TR PRESS']*(data['TR PRESS'].max()-data['TR PRESS'].min())+(data['TR PRESS'].min())\n"
   ]
  },
  {
   "cell_type": "code",
   "execution_count": 41,
   "metadata": {},
   "outputs": [
    {
     "data": {
      "text/html": [
       "<div>\n",
       "<style scoped>\n",
       "    .dataframe tbody tr th:only-of-type {\n",
       "        vertical-align: middle;\n",
       "    }\n",
       "\n",
       "    .dataframe tbody tr th {\n",
       "        vertical-align: top;\n",
       "    }\n",
       "\n",
       "    .dataframe thead th {\n",
       "        text-align: right;\n",
       "    }\n",
       "</style>\n",
       "<table border=\"1\" class=\"dataframe\">\n",
       "  <thead>\n",
       "    <tr style=\"text-align: right;\">\n",
       "      <th></th>\n",
       "      <th>Actual TR PRESS</th>\n",
       "    </tr>\n",
       "  </thead>\n",
       "  <tbody>\n",
       "    <tr>\n",
       "      <th>0</th>\n",
       "      <td>9223.445736</td>\n",
       "    </tr>\n",
       "    <tr>\n",
       "      <th>1</th>\n",
       "      <td>9228.135659</td>\n",
       "    </tr>\n",
       "    <tr>\n",
       "      <th>2</th>\n",
       "      <td>9230.480620</td>\n",
       "    </tr>\n",
       "    <tr>\n",
       "      <th>3</th>\n",
       "      <td>9228.135659</td>\n",
       "    </tr>\n",
       "    <tr>\n",
       "      <th>4</th>\n",
       "      <td>9228.135659</td>\n",
       "    </tr>\n",
       "  </tbody>\n",
       "</table>\n",
       "</div>"
      ],
      "text/plain": [
       "   Actual TR PRESS\n",
       "0      9223.445736\n",
       "1      9228.135659\n",
       "2      9230.480620\n",
       "3      9228.135659\n",
       "4      9228.135659"
      ]
     },
     "execution_count": 41,
     "metadata": {},
     "output_type": "execute_result"
    }
   ],
   "source": [
    "y_test=pd.DataFrame(y_test,columns=['Actual TR PRESS'])\n",
    "y_test['Actual TR PRESS']=y_test['Actual TR PRESS']*(data['TR PRESS'].max()-data['TR PRESS'].min())+(data['TR PRESS'].min())\n",
    "y_test.head()"
   ]
  },
  {
   "cell_type": "code",
   "execution_count": 42,
   "metadata": {},
   "outputs": [
    {
     "data": {
      "text/plain": [
       "0    9224.724609\n",
       "1    9224.717773\n",
       "2    9224.707031\n",
       "3    9224.700195\n",
       "4    9224.692383\n",
       "Name: Predicted TR PRESS, dtype: float32"
      ]
     },
     "execution_count": 42,
     "metadata": {},
     "output_type": "execute_result"
    }
   ],
   "source": [
    "y_pred['Predicted TR PRESS'].head()"
   ]
  },
  {
   "cell_type": "code",
   "execution_count": 43,
   "metadata": {},
   "outputs": [],
   "source": [
    "# scaler.scale_"
   ]
  },
  {
   "cell_type": "markdown",
   "metadata": {},
   "source": [
    "# Visualization"
   ]
  },
  {
   "cell_type": "code",
   "execution_count": 44,
   "metadata": {},
   "outputs": [
    {
     "data": {
      "text/plain": [
       "<matplotlib.legend.Legend at 0x25c6ccbaf08>"
      ]
     },
     "execution_count": 44,
     "metadata": {},
     "output_type": "execute_result"
    },
    {
     "data": {
      "image/png": "[encoded data removed]",
      "text/plain": [
       "<Figure size 1008x360 with 1 Axes>"
      ]
     },
     "metadata": {
      "needs_background": "light"
     },
     "output_type": "display_data"
    }
   ],
   "source": [
    "plt.figure(figsize=(14,5))\n",
    "plt.plot(y_test, color='red', label='Actual TR PRESS')\n",
    "plt.plot(y_pred['Predicted TR PRESS'], color='blue', label='Predicted TR PRESS')\n",
    "plt.title('Frac Treating Pressure Actual Vs. Prediction')\n",
    "plt.xlabel('Time (seconds)')\n",
    "plt.ylabel('Surface Treating Pressure (psi)')\n",
    "plt.legend()"
   ]
  },
  {
   "cell_type": "code",
   "execution_count": null,
   "metadata": {},
   "outputs": [],
   "source": []
  }
 ],
 "metadata": {
  "kernelspec": {
   "display_name": "Python 3",
   "language": "python",
   "name": "python3"
  },
  "language_info": {
   "codemirror_mode": {
    "name": "ipython",
    "version": 3
   },
   "file_extension": ".py",
   "mimetype": "text/x-python",
   "name": "python",
   "nbconvert_exporter": "python",
   "pygments_lexer": "ipython3",
   "version": "3.7.6"
  }
 },
 "nbformat": 4,
 "nbformat_minor": 2
}
